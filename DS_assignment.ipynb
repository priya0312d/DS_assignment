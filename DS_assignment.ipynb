{
  "nbformat": 4,
  "nbformat_minor": 0,
  "metadata": {
    "colab": {
      "name": "DS_assignment",
      "provenance": [],
      "collapsed_sections": []
    },
    "kernelspec": {
      "display_name": "Python 3",
      "language": "python",
      "name": "python3"
    },
    "language_info": {
      "codemirror_mode": {
        "name": "ipython",
        "version": 3
      },
      "file_extension": ".py",
      "mimetype": "text/x-python",
      "name": "python",
      "nbconvert_exporter": "python",
      "pygments_lexer": "ipython3",
      "version": "3.8.5"
    }
  },
  "cells": [
    {
      "cell_type": "markdown",
      "metadata": {
        "id": "K-HGrms33Aia"
      },
      "source": [
        "## Importing The Libraries"
      ]
    },
    {
      "cell_type": "code",
      "metadata": {
        "colab": {
          "base_uri": "https://localhost:8080/"
        },
        "id": "x38UcgZWQI33",
        "outputId": "dec5d24a-eafb-402c-f1cb-57cc7f9783a6"
      },
      "source": [
        "from google.colab import drive\n",
        "drive.mount('/content/drive')"
      ],
      "execution_count": 1,
      "outputs": [
        {
          "output_type": "stream",
          "name": "stdout",
          "text": [
            "Drive already mounted at /content/drive; to attempt to forcibly remount, call drive.mount(\"/content/drive\", force_remount=True).\n"
          ]
        }
      ]
    },
    {
      "cell_type": "code",
      "metadata": {
        "id": "gb6A_v1H2wdG"
      },
      "source": [
        "import pandas as pd\n",
        "import numpy as np\n",
        "from pandas import set_option\n",
        "import seaborn as sns\n",
        "import matplotlib.pyplot as plt\n",
        "import scipy.stats as stat\n",
        "import pylab\n",
        "import warnings\n",
        "warnings.filterwarnings('ignore')\n",
        "warnings.filterwarnings(action = 'ignore', category = DeprecationWarning)\n",
        "warnings.filterwarnings(action = 'ignore', category = FutureWarning)\n",
        "\n",
        "from sklearn.preprocessing import LabelEncoder\n",
        "from sklearn.ensemble import ExtraTreesClassifier\n"
      ],
      "execution_count": 2,
      "outputs": []
    },
    {
      "cell_type": "markdown",
      "metadata": {
        "id": "kNfJvnIE3vY8"
      },
      "source": [
        "## Load The Dataset"
      ]
    },
    {
      "cell_type": "code",
      "metadata": {
        "colab": {
          "base_uri": "https://localhost:8080/",
          "height": 423
        },
        "id": "l5C9hqZI2wdO",
        "outputId": "9a06f2ef-2876-4920-dee8-46f64d0a718f"
      },
      "source": [
        "df=pd.read_csv('drive/MyDrive/DS_dataset.csv')\n",
        "df"
      ],
      "execution_count": 3,
      "outputs": [
        {
          "output_type": "execute_result",
          "data": {
            "text/html": [
              "<div>\n",
              "<style scoped>\n",
              "    .dataframe tbody tr th:only-of-type {\n",
              "        vertical-align: middle;\n",
              "    }\n",
              "\n",
              "    .dataframe tbody tr th {\n",
              "        vertical-align: top;\n",
              "    }\n",
              "\n",
              "    .dataframe thead th {\n",
              "        text-align: right;\n",
              "    }\n",
              "</style>\n",
              "<table border=\"1\" class=\"dataframe\">\n",
              "  <thead>\n",
              "    <tr style=\"text-align: right;\">\n",
              "      <th></th>\n",
              "      <th>Customer_ID</th>\n",
              "      <th>Var1</th>\n",
              "      <th>Var2</th>\n",
              "      <th>Group</th>\n",
              "      <th>Category</th>\n",
              "      <th>Rating</th>\n",
              "      <th>Purchased_ABC_product</th>\n",
              "    </tr>\n",
              "  </thead>\n",
              "  <tbody>\n",
              "    <tr>\n",
              "      <th>0</th>\n",
              "      <td>5518</td>\n",
              "      <td>41.534</td>\n",
              "      <td>12.123</td>\n",
              "      <td>G1</td>\n",
              "      <td>C1</td>\n",
              "      <td>Bronze</td>\n",
              "      <td>0</td>\n",
              "    </tr>\n",
              "    <tr>\n",
              "      <th>1</th>\n",
              "      <td>40515</td>\n",
              "      <td>9.445</td>\n",
              "      <td>0.256</td>\n",
              "      <td>G1</td>\n",
              "      <td>C1</td>\n",
              "      <td>Bronze</td>\n",
              "      <td>0</td>\n",
              "    </tr>\n",
              "    <tr>\n",
              "      <th>2</th>\n",
              "      <td>52697</td>\n",
              "      <td>37.599</td>\n",
              "      <td>3.199</td>\n",
              "      <td>G1</td>\n",
              "      <td>C2</td>\n",
              "      <td>Gold</td>\n",
              "      <td>0</td>\n",
              "    </tr>\n",
              "    <tr>\n",
              "      <th>3</th>\n",
              "      <td>68202</td>\n",
              "      <td>81.514</td>\n",
              "      <td>1.645</td>\n",
              "      <td>G1</td>\n",
              "      <td>C1</td>\n",
              "      <td>Silver</td>\n",
              "      <td>0</td>\n",
              "    </tr>\n",
              "    <tr>\n",
              "      <th>4</th>\n",
              "      <td>130003</td>\n",
              "      <td>46.805</td>\n",
              "      <td>1.706</td>\n",
              "      <td>G1</td>\n",
              "      <td>C1</td>\n",
              "      <td>Silver</td>\n",
              "      <td>0</td>\n",
              "    </tr>\n",
              "    <tr>\n",
              "      <th>...</th>\n",
              "      <td>...</td>\n",
              "      <td>...</td>\n",
              "      <td>...</td>\n",
              "      <td>...</td>\n",
              "      <td>...</td>\n",
              "      <td>...</td>\n",
              "      <td>...</td>\n",
              "    </tr>\n",
              "    <tr>\n",
              "      <th>30824</th>\n",
              "      <td>7047231</td>\n",
              "      <td>12.094</td>\n",
              "      <td>0.899</td>\n",
              "      <td>G5</td>\n",
              "      <td>C3</td>\n",
              "      <td>Bronze</td>\n",
              "      <td>1</td>\n",
              "    </tr>\n",
              "    <tr>\n",
              "      <th>30825</th>\n",
              "      <td>7079889</td>\n",
              "      <td>43.214</td>\n",
              "      <td>6.484</td>\n",
              "      <td>G5</td>\n",
              "      <td>C1</td>\n",
              "      <td>Bronze</td>\n",
              "      <td>1</td>\n",
              "    </tr>\n",
              "    <tr>\n",
              "      <th>30826</th>\n",
              "      <td>7155901</td>\n",
              "      <td>20.902</td>\n",
              "      <td>6.159</td>\n",
              "      <td>G5</td>\n",
              "      <td>C1</td>\n",
              "      <td>Bronze</td>\n",
              "      <td>1</td>\n",
              "    </tr>\n",
              "    <tr>\n",
              "      <th>30827</th>\n",
              "      <td>7180919</td>\n",
              "      <td>11.443</td>\n",
              "      <td>0.000</td>\n",
              "      <td>G5</td>\n",
              "      <td>C3</td>\n",
              "      <td>Bronze</td>\n",
              "      <td>0</td>\n",
              "    </tr>\n",
              "    <tr>\n",
              "      <th>30828</th>\n",
              "      <td>7182208</td>\n",
              "      <td>18.485</td>\n",
              "      <td>0.164</td>\n",
              "      <td>G5</td>\n",
              "      <td>C4</td>\n",
              "      <td>Bronze</td>\n",
              "      <td>0</td>\n",
              "    </tr>\n",
              "  </tbody>\n",
              "</table>\n",
              "<p>30829 rows × 7 columns</p>\n",
              "</div>"
            ],
            "text/plain": [
              "       Customer_ID    Var1    Var2  ... Category  Rating Purchased_ABC_product\n",
              "0             5518  41.534  12.123  ...       C1  Bronze                     0\n",
              "1            40515   9.445   0.256  ...       C1  Bronze                     0\n",
              "2            52697  37.599   3.199  ...       C2    Gold                     0\n",
              "3            68202  81.514   1.645  ...       C1  Silver                     0\n",
              "4           130003  46.805   1.706  ...       C1  Silver                     0\n",
              "...            ...     ...     ...  ...      ...     ...                   ...\n",
              "30824      7047231  12.094   0.899  ...       C3  Bronze                     1\n",
              "30825      7079889  43.214   6.484  ...       C1  Bronze                     1\n",
              "30826      7155901  20.902   6.159  ...       C1  Bronze                     1\n",
              "30827      7180919  11.443   0.000  ...       C3  Bronze                     0\n",
              "30828      7182208  18.485   0.164  ...       C4  Bronze                     0\n",
              "\n",
              "[30829 rows x 7 columns]"
            ]
          },
          "metadata": {},
          "execution_count": 3
        }
      ]
    },
    {
      "cell_type": "markdown",
      "metadata": {
        "id": "P2_IuBr9drig"
      },
      "source": [
        "## Summarize Data"
      ]
    },
    {
      "cell_type": "code",
      "metadata": {
        "colab": {
          "base_uri": "https://localhost:8080/"
        },
        "id": "oDcw9EMv2wdQ",
        "outputId": "32d7f897-eb97-4d82-da33-6f622fba5839"
      },
      "source": [
        "df.shape"
      ],
      "execution_count": 4,
      "outputs": [
        {
          "output_type": "execute_result",
          "data": {
            "text/plain": [
              "(30829, 7)"
            ]
          },
          "metadata": {},
          "execution_count": 4
        }
      ]
    },
    {
      "cell_type": "code",
      "metadata": {
        "colab": {
          "base_uri": "https://localhost:8080/"
        },
        "id": "Sm_qnIfW2wdQ",
        "outputId": "aad46499-c3e2-461f-8cc0-f51ee136ec9b"
      },
      "source": [
        "df.size"
      ],
      "execution_count": 5,
      "outputs": [
        {
          "output_type": "execute_result",
          "data": {
            "text/plain": [
              "215803"
            ]
          },
          "metadata": {},
          "execution_count": 5
        }
      ]
    },
    {
      "cell_type": "code",
      "metadata": {
        "colab": {
          "base_uri": "https://localhost:8080/"
        },
        "id": "OAxT8ibb2wdR",
        "scrolled": true,
        "outputId": "b3c6157d-4dcf-46b7-abb4-07d314914f8f"
      },
      "source": [
        "#Data type\n",
        "df.info()"
      ],
      "execution_count": 6,
      "outputs": [
        {
          "output_type": "stream",
          "name": "stdout",
          "text": [
            "<class 'pandas.core.frame.DataFrame'>\n",
            "RangeIndex: 30829 entries, 0 to 30828\n",
            "Data columns (total 7 columns):\n",
            " #   Column                 Non-Null Count  Dtype  \n",
            "---  ------                 --------------  -----  \n",
            " 0   Customer_ID            30829 non-null  int64  \n",
            " 1   Var1                   30829 non-null  float64\n",
            " 2   Var2                   30829 non-null  float64\n",
            " 3   Group                  30829 non-null  object \n",
            " 4   Category               30829 non-null  object \n",
            " 5   Rating                 30829 non-null  object \n",
            " 6   Purchased_ABC_product  30829 non-null  int64  \n",
            "dtypes: float64(2), int64(2), object(3)\n",
            "memory usage: 1.6+ MB\n"
          ]
        }
      ]
    },
    {
      "cell_type": "code",
      "metadata": {
        "colab": {
          "base_uri": "https://localhost:8080/",
          "height": 300
        },
        "id": "JqrZVDuMdrii",
        "outputId": "1a6d08f6-5bdb-440a-fad6-b65880a2c660"
      },
      "source": [
        "# Descriptive statistics\n",
        "df.describe()"
      ],
      "execution_count": 7,
      "outputs": [
        {
          "output_type": "execute_result",
          "data": {
            "text/html": [
              "<div>\n",
              "<style scoped>\n",
              "    .dataframe tbody tr th:only-of-type {\n",
              "        vertical-align: middle;\n",
              "    }\n",
              "\n",
              "    .dataframe tbody tr th {\n",
              "        vertical-align: top;\n",
              "    }\n",
              "\n",
              "    .dataframe thead th {\n",
              "        text-align: right;\n",
              "    }\n",
              "</style>\n",
              "<table border=\"1\" class=\"dataframe\">\n",
              "  <thead>\n",
              "    <tr style=\"text-align: right;\">\n",
              "      <th></th>\n",
              "      <th>Customer_ID</th>\n",
              "      <th>Var1</th>\n",
              "      <th>Var2</th>\n",
              "      <th>Purchased_ABC_product</th>\n",
              "    </tr>\n",
              "  </thead>\n",
              "  <tbody>\n",
              "    <tr>\n",
              "      <th>count</th>\n",
              "      <td>3.082900e+04</td>\n",
              "      <td>30829.000000</td>\n",
              "      <td>30829.000000</td>\n",
              "      <td>30829.000000</td>\n",
              "    </tr>\n",
              "    <tr>\n",
              "      <th>mean</th>\n",
              "      <td>3.057482e+06</td>\n",
              "      <td>64.868318</td>\n",
              "      <td>4.994489</td>\n",
              "      <td>0.503552</td>\n",
              "    </tr>\n",
              "    <tr>\n",
              "      <th>std</th>\n",
              "      <td>2.210470e+06</td>\n",
              "      <td>114.373345</td>\n",
              "      <td>9.533546</td>\n",
              "      <td>0.499995</td>\n",
              "    </tr>\n",
              "    <tr>\n",
              "      <th>min</th>\n",
              "      <td>6.470000e+02</td>\n",
              "      <td>0.251000</td>\n",
              "      <td>0.000000</td>\n",
              "      <td>0.000000</td>\n",
              "    </tr>\n",
              "    <tr>\n",
              "      <th>25%</th>\n",
              "      <td>1.501804e+06</td>\n",
              "      <td>13.256000</td>\n",
              "      <td>0.668000</td>\n",
              "      <td>0.000000</td>\n",
              "    </tr>\n",
              "    <tr>\n",
              "      <th>50%</th>\n",
              "      <td>2.192582e+06</td>\n",
              "      <td>31.860000</td>\n",
              "      <td>2.189000</td>\n",
              "      <td>1.000000</td>\n",
              "    </tr>\n",
              "    <tr>\n",
              "      <th>75%</th>\n",
              "      <td>4.732076e+06</td>\n",
              "      <td>68.702000</td>\n",
              "      <td>5.482000</td>\n",
              "      <td>1.000000</td>\n",
              "    </tr>\n",
              "    <tr>\n",
              "      <th>max</th>\n",
              "      <td>7.285914e+06</td>\n",
              "      <td>2909.776000</td>\n",
              "      <td>317.380000</td>\n",
              "      <td>1.000000</td>\n",
              "    </tr>\n",
              "  </tbody>\n",
              "</table>\n",
              "</div>"
            ],
            "text/plain": [
              "        Customer_ID          Var1          Var2  Purchased_ABC_product\n",
              "count  3.082900e+04  30829.000000  30829.000000           30829.000000\n",
              "mean   3.057482e+06     64.868318      4.994489               0.503552\n",
              "std    2.210470e+06    114.373345      9.533546               0.499995\n",
              "min    6.470000e+02      0.251000      0.000000               0.000000\n",
              "25%    1.501804e+06     13.256000      0.668000               0.000000\n",
              "50%    2.192582e+06     31.860000      2.189000               1.000000\n",
              "75%    4.732076e+06     68.702000      5.482000               1.000000\n",
              "max    7.285914e+06   2909.776000    317.380000               1.000000"
            ]
          },
          "metadata": {},
          "execution_count": 7
        }
      ]
    },
    {
      "cell_type": "code",
      "metadata": {
        "colab": {
          "base_uri": "https://localhost:8080/"
        },
        "id": "vYo-oh9Ydrii",
        "outputId": "1dbecec9-70c7-421d-b0f8-c1e1a66f91ed"
      },
      "source": [
        "# Class proportion\n",
        "result_counts = df.groupby('Purchased_ABC_product').size()\n",
        "print(result_counts)"
      ],
      "execution_count": 8,
      "outputs": [
        {
          "output_type": "stream",
          "name": "stdout",
          "text": [
            "Purchased_ABC_product\n",
            "0    15305\n",
            "1    15524\n",
            "dtype: int64\n"
          ]
        }
      ]
    },
    {
      "cell_type": "markdown",
      "source": [
        "# **EDA**"
      ],
      "metadata": {
        "id": "hag7gcCUnYpn"
      }
    },
    {
      "cell_type": "markdown",
      "metadata": {
        "id": "ZN83qJe94EbF"
      },
      "source": [
        "## Duplicates"
      ]
    },
    {
      "cell_type": "code",
      "metadata": {
        "colab": {
          "base_uri": "https://localhost:8080/"
        },
        "id": "1-bJ2TVd2wdR",
        "scrolled": true,
        "outputId": "8980e052-822d-43ba-ca4f-ac2b4ca759f1"
      },
      "source": [
        "#Count of duplicated rows\n",
        "df[df.duplicated()].shape\n"
      ],
      "execution_count": 9,
      "outputs": [
        {
          "output_type": "execute_result",
          "data": {
            "text/plain": [
              "(0, 7)"
            ]
          },
          "metadata": {},
          "execution_count": 9
        }
      ]
    },
    {
      "cell_type": "code",
      "metadata": {
        "colab": {
          "base_uri": "https://localhost:8080/",
          "height": 50
        },
        "id": "oAsU3g9x2wdS",
        "outputId": "27700d52-fe1a-461c-97a8-15d877f2abf5"
      },
      "source": [
        "#Print the duplicated rows\n",
        "df[df.duplicated()]"
      ],
      "execution_count": 10,
      "outputs": [
        {
          "output_type": "execute_result",
          "data": {
            "text/html": [
              "<div>\n",
              "<style scoped>\n",
              "    .dataframe tbody tr th:only-of-type {\n",
              "        vertical-align: middle;\n",
              "    }\n",
              "\n",
              "    .dataframe tbody tr th {\n",
              "        vertical-align: top;\n",
              "    }\n",
              "\n",
              "    .dataframe thead th {\n",
              "        text-align: right;\n",
              "    }\n",
              "</style>\n",
              "<table border=\"1\" class=\"dataframe\">\n",
              "  <thead>\n",
              "    <tr style=\"text-align: right;\">\n",
              "      <th></th>\n",
              "      <th>Customer_ID</th>\n",
              "      <th>Var1</th>\n",
              "      <th>Var2</th>\n",
              "      <th>Group</th>\n",
              "      <th>Category</th>\n",
              "      <th>Rating</th>\n",
              "      <th>Purchased_ABC_product</th>\n",
              "    </tr>\n",
              "  </thead>\n",
              "  <tbody>\n",
              "  </tbody>\n",
              "</table>\n",
              "</div>"
            ],
            "text/plain": [
              "Empty DataFrame\n",
              "Columns: [Customer_ID, Var1, Var2, Group, Category, Rating, Purchased_ABC_product]\n",
              "Index: []"
            ]
          },
          "metadata": {},
          "execution_count": 10
        }
      ]
    },
    {
      "cell_type": "markdown",
      "metadata": {
        "id": "MEGFOptJF2bR"
      },
      "source": [
        "## Missing Values"
      ]
    },
    {
      "cell_type": "code",
      "metadata": {
        "colab": {
          "base_uri": "https://localhost:8080/",
          "height": 50
        },
        "id": "WC8g2s5-2wdT",
        "outputId": "2fdaa93c-63c1-43ce-b667-5ca2e842b3fb"
      },
      "source": [
        "df[df.isnull().any(axis=1)]"
      ],
      "execution_count": 11,
      "outputs": [
        {
          "output_type": "execute_result",
          "data": {
            "text/html": [
              "<div>\n",
              "<style scoped>\n",
              "    .dataframe tbody tr th:only-of-type {\n",
              "        vertical-align: middle;\n",
              "    }\n",
              "\n",
              "    .dataframe tbody tr th {\n",
              "        vertical-align: top;\n",
              "    }\n",
              "\n",
              "    .dataframe thead th {\n",
              "        text-align: right;\n",
              "    }\n",
              "</style>\n",
              "<table border=\"1\" class=\"dataframe\">\n",
              "  <thead>\n",
              "    <tr style=\"text-align: right;\">\n",
              "      <th></th>\n",
              "      <th>Customer_ID</th>\n",
              "      <th>Var1</th>\n",
              "      <th>Var2</th>\n",
              "      <th>Group</th>\n",
              "      <th>Category</th>\n",
              "      <th>Rating</th>\n",
              "      <th>Purchased_ABC_product</th>\n",
              "    </tr>\n",
              "  </thead>\n",
              "  <tbody>\n",
              "  </tbody>\n",
              "</table>\n",
              "</div>"
            ],
            "text/plain": [
              "Empty DataFrame\n",
              "Columns: [Customer_ID, Var1, Var2, Group, Category, Rating, Purchased_ABC_product]\n",
              "Index: []"
            ]
          },
          "metadata": {},
          "execution_count": 11
        }
      ]
    },
    {
      "cell_type": "code",
      "metadata": {
        "colab": {
          "base_uri": "https://localhost:8080/"
        },
        "id": "6IdxMMW82wdU",
        "outputId": "c9064422-d0a5-407d-abb9-34f0c1a714b0"
      },
      "source": [
        "#count of missing values.\n",
        "df.isnull().sum()"
      ],
      "execution_count": 12,
      "outputs": [
        {
          "output_type": "execute_result",
          "data": {
            "text/plain": [
              "Customer_ID              0\n",
              "Var1                     0\n",
              "Var2                     0\n",
              "Group                    0\n",
              "Category                 0\n",
              "Rating                   0\n",
              "Purchased_ABC_product    0\n",
              "dtype: int64"
            ]
          },
          "metadata": {},
          "execution_count": 12
        }
      ]
    },
    {
      "cell_type": "markdown",
      "metadata": {
        "id": "w0wRTkjqMA49"
      },
      "source": [
        "## Oulier Detection\n",
        "###### We will use IQR (Interquartile Range Method) to deal with outliers."
      ]
    },
    {
      "cell_type": "code",
      "metadata": {
        "colab": {
          "base_uri": "https://localhost:8080/",
          "height": 296
        },
        "id": "LbK_opfdL_Nl",
        "outputId": "2ea261ac-2d5e-4140-c84b-81e1db823088"
      },
      "source": [
        "figure=df.Var1.hist(bins=50)\n",
        "figure.set_xlabel('Var1')\n",
        "figure.set_ylabel('Frequency')"
      ],
      "execution_count": 13,
      "outputs": [
        {
          "output_type": "execute_result",
          "data": {
            "text/plain": [
              "Text(0, 0.5, 'Frequency')"
            ]
          },
          "metadata": {},
          "execution_count": 13
        },
        {
          "output_type": "display_data",
          "data": {
            "image/png": "[encoded data removed]",
            "text/plain": [
              "<Figure size 432x288 with 1 Axes>"
            ]
          },
          "metadata": {
            "needs_background": "light"
          }
        }
      ]
    },
    {
      "cell_type": "code",
      "metadata": {
        "colab": {
          "base_uri": "https://localhost:8080/",
          "height": 283
        },
        "id": "tFz6pmbPA9ue",
        "outputId": "49ca4b80-9da2-4f01-f8fd-85df6223342d"
      },
      "source": [
        "df.boxplot(column=\"Var1\")"
      ],
      "execution_count": 14,
      "outputs": [
        {
          "output_type": "execute_result",
          "data": {
            "text/plain": [
              "<matplotlib.axes._subplots.AxesSubplot at 0x7fc5f2696c90>"
            ]
          },
          "metadata": {},
          "execution_count": 14
        },
        {
          "output_type": "display_data",
          "data": {
            "image/png": "[encoded data removed]",
            "text/plain": [
              "<Figure size 432x288 with 1 Axes>"
            ]
          },
          "metadata": {
            "needs_background": "light"
          }
        }
      ]
    },
    {
      "cell_type": "code",
      "metadata": {
        "colab": {
          "base_uri": "https://localhost:8080/"
        },
        "id": "K3bquz4-_1Vc",
        "outputId": "0749ae99-7ec5-448a-faab-f1bbd559bd79"
      },
      "source": [
        "df['Var1'].max()"
      ],
      "execution_count": 15,
      "outputs": [
        {
          "output_type": "execute_result",
          "data": {
            "text/plain": [
              "2909.776"
            ]
          },
          "metadata": {},
          "execution_count": 15
        }
      ]
    },
    {
      "cell_type": "code",
      "metadata": {
        "colab": {
          "base_uri": "https://localhost:8080/"
        },
        "id": "cJtigqib_1Yo",
        "outputId": "f013982e-a785-4c09-f5b6-7731045d2c34"
      },
      "source": [
        "df['Var1'].min()"
      ],
      "execution_count": 16,
      "outputs": [
        {
          "output_type": "execute_result",
          "data": {
            "text/plain": [
              "0.251"
            ]
          },
          "metadata": {},
          "execution_count": 16
        }
      ]
    },
    {
      "cell_type": "code",
      "metadata": {
        "id": "8iRsNGGQ_1cL"
      },
      "source": [
        "#Logarithmic Transformation\n",
        "df['Var1'] =np.log(df['Var1'] )"
      ],
      "execution_count": 17,
      "outputs": []
    },
    {
      "cell_type": "code",
      "metadata": {
        "colab": {
          "base_uri": "https://localhost:8080/",
          "height": 282
        },
        "id": "t17jDF78_1mT",
        "outputId": "9938ccce-9ea9-4c59-e363-7768c919b8e3"
      },
      "source": [
        "df.boxplot(column=\"Var1\")"
      ],
      "execution_count": 18,
      "outputs": [
        {
          "output_type": "execute_result",
          "data": {
            "text/plain": [
              "<matplotlib.axes._subplots.AxesSubplot at 0x7fc5f262b410>"
            ]
          },
          "metadata": {},
          "execution_count": 18
        },
        {
          "output_type": "display_data",
          "data": {
            "image/png": "[encoded data removed]",
            "text/plain": [
              "<Figure size 432x288 with 1 Axes>"
            ]
          },
          "metadata": {
            "needs_background": "light"
          }
        }
      ]
    },
    {
      "cell_type": "code",
      "metadata": {
        "colab": {
          "base_uri": "https://localhost:8080/"
        },
        "id": "mDb3WW-L_1pV",
        "outputId": "2ff7212f-8f0b-4962-86af-f736278ed5e7"
      },
      "source": [
        "df['Var1'].describe()"
      ],
      "execution_count": 19,
      "outputs": [
        {
          "output_type": "execute_result",
          "data": {
            "text/plain": [
              "count    30829.000000\n",
              "mean         3.395549\n",
              "std          1.273777\n",
              "min         -1.382302\n",
              "25%          2.584450\n",
              "50%          3.461351\n",
              "75%          4.229778\n",
              "max          7.975831\n",
              "Name: Var1, dtype: float64"
            ]
          },
          "metadata": {},
          "execution_count": 19
        }
      ]
    },
    {
      "cell_type": "code",
      "metadata": {
        "colab": {
          "base_uri": "https://localhost:8080/"
        },
        "id": "H1WyA3KV_1tD",
        "outputId": "747972d9-b4fd-40fe-a248-c8b5cbecf5cb"
      },
      "source": [
        "# Lets compute the Interquantile range to calculate the boundaries\n",
        "IQR=df.Var1.quantile(0.75)-df.Var1.quantile(0.25)\n",
        "IQR"
      ],
      "execution_count": 20,
      "outputs": [
        {
          "output_type": "execute_result",
          "data": {
            "text/plain": [
              "1.645328030761808"
            ]
          },
          "metadata": {},
          "execution_count": 20
        }
      ]
    },
    {
      "cell_type": "code",
      "metadata": {
        "colab": {
          "base_uri": "https://localhost:8080/"
        },
        "id": "4IWZYK9BL_QO",
        "outputId": "46191c75-9a1b-453e-f012-57a6b4833368"
      },
      "source": [
        "lower_bridge=df['Var1'].quantile(0.25)-(IQR*1.5)\n",
        "upper_bridge=df['Var1'].quantile(0.75)+(IQR*1.5)\n",
        "print(lower_bridge), print(upper_bridge)"
      ],
      "execution_count": 21,
      "outputs": [
        {
          "output_type": "stream",
          "name": "stdout",
          "text": [
            "0.11645823398154986\n",
            "6.697770357028781\n"
          ]
        },
        {
          "output_type": "execute_result",
          "data": {
            "text/plain": [
              "(None, None)"
            ]
          },
          "metadata": {},
          "execution_count": 21
        }
      ]
    },
    {
      "cell_type": "code",
      "metadata": {
        "colab": {
          "base_uri": "https://localhost:8080/"
        },
        "id": "IS8OJ7EAL_Tw",
        "outputId": "0b0244e5-bfab-494f-f5b3-609803f3f322"
      },
      "source": [
        "#Extreme outliers\n",
        "lower_bridge=df['Var1'].quantile(0.25)-(IQR*3)\n",
        "upper_bridge=df['Var1'].quantile(0.75)+(IQR*3)\n",
        "print(lower_bridge), print(upper_bridge)"
      ],
      "execution_count": 22,
      "outputs": [
        {
          "output_type": "stream",
          "name": "stdout",
          "text": [
            "-2.3515338121611618\n",
            "9.165762403171492\n"
          ]
        },
        {
          "output_type": "execute_result",
          "data": {
            "text/plain": [
              "(None, None)"
            ]
          },
          "metadata": {},
          "execution_count": 22
        }
      ]
    },
    {
      "cell_type": "code",
      "metadata": {
        "id": "CJM-l2pdBoXV"
      },
      "source": [
        "df.loc[df['Var1']>= 9,'Var1']= 9\n",
        "df.loc[df['Var1']<= -2,'Var1']= -2"
      ],
      "execution_count": 25,
      "outputs": []
    },
    {
      "cell_type": "code",
      "metadata": {
        "colab": {
          "base_uri": "https://localhost:8080/",
          "height": 282
        },
        "id": "rB3hDgKIBobW",
        "outputId": "27de421a-97d8-4416-ef1d-054a9805b788"
      },
      "source": [
        "df.boxplot(column=\"Var1\")"
      ],
      "execution_count": 24,
      "outputs": [
        {
          "output_type": "execute_result",
          "data": {
            "text/plain": [
              "<matplotlib.axes._subplots.AxesSubplot at 0x7fc5f25c7550>"
            ]
          },
          "metadata": {},
          "execution_count": 24
        },
        {
          "output_type": "display_data",
          "data": {
            "image/png": "[encoded data removed]",
            "text/plain": [
              "<Figure size 432x288 with 1 Axes>"
            ]
          },
          "metadata": {
            "needs_background": "light"
          }
        }
      ]
    },
    {
      "cell_type": "code",
      "metadata": {
        "colab": {
          "base_uri": "https://localhost:8080/",
          "height": 296
        },
        "id": "4fPuOI5ABoe7",
        "outputId": "5e22ac2e-ef35-41f3-fae1-7d39f62e778a"
      },
      "source": [
        "figure=df.Var1.hist(bins=50)\n",
        "figure.set_xlabel('Var1')\n",
        "figure.set_ylabel('Frequency')"
      ],
      "execution_count": 26,
      "outputs": [
        {
          "output_type": "execute_result",
          "data": {
            "text/plain": [
              "Text(0, 0.5, 'Frequency')"
            ]
          },
          "metadata": {},
          "execution_count": 26
        },
        {
          "output_type": "display_data",
          "data": {
            "image/png": "[encoded data removed]",
            "text/plain": [
              "<Figure size 432x288 with 1 Axes>"
            ]
          },
          "metadata": {
            "needs_background": "light"
          }
        }
      ]
    },
    {
      "cell_type": "code",
      "source": [
        "df"
      ],
      "metadata": {
        "colab": {
          "base_uri": "https://localhost:8080/",
          "height": 423
        },
        "id": "t5oVoS7A7VcI",
        "outputId": "637896f5-8e04-4fbc-e6ee-90dff12ee602"
      },
      "execution_count": 27,
      "outputs": [
        {
          "output_type": "execute_result",
          "data": {
            "text/html": [
              "<div>\n",
              "<style scoped>\n",
              "    .dataframe tbody tr th:only-of-type {\n",
              "        vertical-align: middle;\n",
              "    }\n",
              "\n",
              "    .dataframe tbody tr th {\n",
              "        vertical-align: top;\n",
              "    }\n",
              "\n",
              "    .dataframe thead th {\n",
              "        text-align: right;\n",
              "    }\n",
              "</style>\n",
              "<table border=\"1\" class=\"dataframe\">\n",
              "  <thead>\n",
              "    <tr style=\"text-align: right;\">\n",
              "      <th></th>\n",
              "      <th>Customer_ID</th>\n",
              "      <th>Var1</th>\n",
              "      <th>Var2</th>\n",
              "      <th>Group</th>\n",
              "      <th>Category</th>\n",
              "      <th>Rating</th>\n",
              "      <th>Purchased_ABC_product</th>\n",
              "    </tr>\n",
              "  </thead>\n",
              "  <tbody>\n",
              "    <tr>\n",
              "      <th>0</th>\n",
              "      <td>5518</td>\n",
              "      <td>3.726512</td>\n",
              "      <td>12.123</td>\n",
              "      <td>G1</td>\n",
              "      <td>C1</td>\n",
              "      <td>Bronze</td>\n",
              "      <td>0</td>\n",
              "    </tr>\n",
              "    <tr>\n",
              "      <th>1</th>\n",
              "      <td>40515</td>\n",
              "      <td>2.245486</td>\n",
              "      <td>0.256</td>\n",
              "      <td>G1</td>\n",
              "      <td>C1</td>\n",
              "      <td>Bronze</td>\n",
              "      <td>0</td>\n",
              "    </tr>\n",
              "    <tr>\n",
              "      <th>2</th>\n",
              "      <td>52697</td>\n",
              "      <td>3.626977</td>\n",
              "      <td>3.199</td>\n",
              "      <td>G1</td>\n",
              "      <td>C2</td>\n",
              "      <td>Gold</td>\n",
              "      <td>0</td>\n",
              "    </tr>\n",
              "    <tr>\n",
              "      <th>3</th>\n",
              "      <td>68202</td>\n",
              "      <td>4.400775</td>\n",
              "      <td>1.645</td>\n",
              "      <td>G1</td>\n",
              "      <td>C1</td>\n",
              "      <td>Silver</td>\n",
              "      <td>0</td>\n",
              "    </tr>\n",
              "    <tr>\n",
              "      <th>4</th>\n",
              "      <td>130003</td>\n",
              "      <td>3.845990</td>\n",
              "      <td>1.706</td>\n",
              "      <td>G1</td>\n",
              "      <td>C1</td>\n",
              "      <td>Silver</td>\n",
              "      <td>0</td>\n",
              "    </tr>\n",
              "    <tr>\n",
              "      <th>...</th>\n",
              "      <td>...</td>\n",
              "      <td>...</td>\n",
              "      <td>...</td>\n",
              "      <td>...</td>\n",
              "      <td>...</td>\n",
              "      <td>...</td>\n",
              "      <td>...</td>\n",
              "    </tr>\n",
              "    <tr>\n",
              "      <th>30824</th>\n",
              "      <td>7047231</td>\n",
              "      <td>2.492709</td>\n",
              "      <td>0.899</td>\n",
              "      <td>G5</td>\n",
              "      <td>C3</td>\n",
              "      <td>Bronze</td>\n",
              "      <td>1</td>\n",
              "    </tr>\n",
              "    <tr>\n",
              "      <th>30825</th>\n",
              "      <td>7079889</td>\n",
              "      <td>3.766165</td>\n",
              "      <td>6.484</td>\n",
              "      <td>G5</td>\n",
              "      <td>C1</td>\n",
              "      <td>Bronze</td>\n",
              "      <td>1</td>\n",
              "    </tr>\n",
              "    <tr>\n",
              "      <th>30826</th>\n",
              "      <td>7155901</td>\n",
              "      <td>3.039845</td>\n",
              "      <td>6.159</td>\n",
              "      <td>G5</td>\n",
              "      <td>C1</td>\n",
              "      <td>Bronze</td>\n",
              "      <td>1</td>\n",
              "    </tr>\n",
              "    <tr>\n",
              "      <th>30827</th>\n",
              "      <td>7180919</td>\n",
              "      <td>2.437378</td>\n",
              "      <td>0.000</td>\n",
              "      <td>G5</td>\n",
              "      <td>C3</td>\n",
              "      <td>Bronze</td>\n",
              "      <td>0</td>\n",
              "    </tr>\n",
              "    <tr>\n",
              "      <th>30828</th>\n",
              "      <td>7182208</td>\n",
              "      <td>2.916960</td>\n",
              "      <td>0.164</td>\n",
              "      <td>G5</td>\n",
              "      <td>C4</td>\n",
              "      <td>Bronze</td>\n",
              "      <td>0</td>\n",
              "    </tr>\n",
              "  </tbody>\n",
              "</table>\n",
              "<p>30829 rows × 7 columns</p>\n",
              "</div>"
            ],
            "text/plain": [
              "       Customer_ID      Var1    Var2  ... Category  Rating Purchased_ABC_product\n",
              "0             5518  3.726512  12.123  ...       C1  Bronze                     0\n",
              "1            40515  2.245486   0.256  ...       C1  Bronze                     0\n",
              "2            52697  3.626977   3.199  ...       C2    Gold                     0\n",
              "3            68202  4.400775   1.645  ...       C1  Silver                     0\n",
              "4           130003  3.845990   1.706  ...       C1  Silver                     0\n",
              "...            ...       ...     ...  ...      ...     ...                   ...\n",
              "30824      7047231  2.492709   0.899  ...       C3  Bronze                     1\n",
              "30825      7079889  3.766165   6.484  ...       C1  Bronze                     1\n",
              "30826      7155901  3.039845   6.159  ...       C1  Bronze                     1\n",
              "30827      7180919  2.437378   0.000  ...       C3  Bronze                     0\n",
              "30828      7182208  2.916960   0.164  ...       C4  Bronze                     0\n",
              "\n",
              "[30829 rows x 7 columns]"
            ]
          },
          "metadata": {},
          "execution_count": 27
        }
      ]
    },
    {
      "cell_type": "markdown",
      "metadata": {
        "id": "MqzSfOjGLv92"
      },
      "source": [
        "## Feature Engineering\n",
        "\n",
        "Label Encoding for non-numerical columns"
      ]
    },
    {
      "cell_type": "code",
      "metadata": {
        "colab": {
          "base_uri": "https://localhost:8080/",
          "height": 423
        },
        "id": "6foUbET_Hdwn",
        "outputId": "765cd4dc-523d-41c1-ea97-158b722bbdef"
      },
      "source": [
        "x=df.iloc[:, [3,4,5]]\n",
        "x"
      ],
      "execution_count": 4,
      "outputs": [
        {
          "output_type": "execute_result",
          "data": {
            "text/html": [
              "<div>\n",
              "<style scoped>\n",
              "    .dataframe tbody tr th:only-of-type {\n",
              "        vertical-align: middle;\n",
              "    }\n",
              "\n",
              "    .dataframe tbody tr th {\n",
              "        vertical-align: top;\n",
              "    }\n",
              "\n",
              "    .dataframe thead th {\n",
              "        text-align: right;\n",
              "    }\n",
              "</style>\n",
              "<table border=\"1\" class=\"dataframe\">\n",
              "  <thead>\n",
              "    <tr style=\"text-align: right;\">\n",
              "      <th></th>\n",
              "      <th>Group</th>\n",
              "      <th>Category</th>\n",
              "      <th>Rating</th>\n",
              "    </tr>\n",
              "  </thead>\n",
              "  <tbody>\n",
              "    <tr>\n",
              "      <th>0</th>\n",
              "      <td>G1</td>\n",
              "      <td>C1</td>\n",
              "      <td>Bronze</td>\n",
              "    </tr>\n",
              "    <tr>\n",
              "      <th>1</th>\n",
              "      <td>G1</td>\n",
              "      <td>C1</td>\n",
              "      <td>Bronze</td>\n",
              "    </tr>\n",
              "    <tr>\n",
              "      <th>2</th>\n",
              "      <td>G1</td>\n",
              "      <td>C2</td>\n",
              "      <td>Gold</td>\n",
              "    </tr>\n",
              "    <tr>\n",
              "      <th>3</th>\n",
              "      <td>G1</td>\n",
              "      <td>C1</td>\n",
              "      <td>Silver</td>\n",
              "    </tr>\n",
              "    <tr>\n",
              "      <th>4</th>\n",
              "      <td>G1</td>\n",
              "      <td>C1</td>\n",
              "      <td>Silver</td>\n",
              "    </tr>\n",
              "    <tr>\n",
              "      <th>...</th>\n",
              "      <td>...</td>\n",
              "      <td>...</td>\n",
              "      <td>...</td>\n",
              "    </tr>\n",
              "    <tr>\n",
              "      <th>30824</th>\n",
              "      <td>G5</td>\n",
              "      <td>C3</td>\n",
              "      <td>Bronze</td>\n",
              "    </tr>\n",
              "    <tr>\n",
              "      <th>30825</th>\n",
              "      <td>G5</td>\n",
              "      <td>C1</td>\n",
              "      <td>Bronze</td>\n",
              "    </tr>\n",
              "    <tr>\n",
              "      <th>30826</th>\n",
              "      <td>G5</td>\n",
              "      <td>C1</td>\n",
              "      <td>Bronze</td>\n",
              "    </tr>\n",
              "    <tr>\n",
              "      <th>30827</th>\n",
              "      <td>G5</td>\n",
              "      <td>C3</td>\n",
              "      <td>Bronze</td>\n",
              "    </tr>\n",
              "    <tr>\n",
              "      <th>30828</th>\n",
              "      <td>G5</td>\n",
              "      <td>C4</td>\n",
              "      <td>Bronze</td>\n",
              "    </tr>\n",
              "  </tbody>\n",
              "</table>\n",
              "<p>30829 rows × 3 columns</p>\n",
              "</div>"
            ],
            "text/plain": [
              "      Group Category  Rating\n",
              "0        G1       C1  Bronze\n",
              "1        G1       C1  Bronze\n",
              "2        G1       C2    Gold\n",
              "3        G1       C1  Silver\n",
              "4        G1       C1  Silver\n",
              "...     ...      ...     ...\n",
              "30824    G5       C3  Bronze\n",
              "30825    G5       C1  Bronze\n",
              "30826    G5       C1  Bronze\n",
              "30827    G5       C3  Bronze\n",
              "30828    G5       C4  Bronze\n",
              "\n",
              "[30829 rows x 3 columns]"
            ]
          },
          "metadata": {},
          "execution_count": 4
        }
      ]
    },
    {
      "cell_type": "code",
      "metadata": {
        "colab": {
          "base_uri": "https://localhost:8080/",
          "height": 423
        },
        "id": "opHf37WhHd0y",
        "outputId": "47143136-a591-40ea-91c3-b6b2ed36aacd"
      },
      "source": [
        "Labelencoder_X= LabelEncoder()\n",
        "X=x.apply(LabelEncoder().fit_transform)\n",
        "X"
      ],
      "execution_count": 5,
      "outputs": [
        {
          "output_type": "execute_result",
          "data": {
            "text/html": [
              "<div>\n",
              "<style scoped>\n",
              "    .dataframe tbody tr th:only-of-type {\n",
              "        vertical-align: middle;\n",
              "    }\n",
              "\n",
              "    .dataframe tbody tr th {\n",
              "        vertical-align: top;\n",
              "    }\n",
              "\n",
              "    .dataframe thead th {\n",
              "        text-align: right;\n",
              "    }\n",
              "</style>\n",
              "<table border=\"1\" class=\"dataframe\">\n",
              "  <thead>\n",
              "    <tr style=\"text-align: right;\">\n",
              "      <th></th>\n",
              "      <th>Group</th>\n",
              "      <th>Category</th>\n",
              "      <th>Rating</th>\n",
              "    </tr>\n",
              "  </thead>\n",
              "  <tbody>\n",
              "    <tr>\n",
              "      <th>0</th>\n",
              "      <td>0</td>\n",
              "      <td>0</td>\n",
              "      <td>0</td>\n",
              "    </tr>\n",
              "    <tr>\n",
              "      <th>1</th>\n",
              "      <td>0</td>\n",
              "      <td>0</td>\n",
              "      <td>0</td>\n",
              "    </tr>\n",
              "    <tr>\n",
              "      <th>2</th>\n",
              "      <td>0</td>\n",
              "      <td>1</td>\n",
              "      <td>1</td>\n",
              "    </tr>\n",
              "    <tr>\n",
              "      <th>3</th>\n",
              "      <td>0</td>\n",
              "      <td>0</td>\n",
              "      <td>2</td>\n",
              "    </tr>\n",
              "    <tr>\n",
              "      <th>4</th>\n",
              "      <td>0</td>\n",
              "      <td>0</td>\n",
              "      <td>2</td>\n",
              "    </tr>\n",
              "    <tr>\n",
              "      <th>...</th>\n",
              "      <td>...</td>\n",
              "      <td>...</td>\n",
              "      <td>...</td>\n",
              "    </tr>\n",
              "    <tr>\n",
              "      <th>30824</th>\n",
              "      <td>4</td>\n",
              "      <td>2</td>\n",
              "      <td>0</td>\n",
              "    </tr>\n",
              "    <tr>\n",
              "      <th>30825</th>\n",
              "      <td>4</td>\n",
              "      <td>0</td>\n",
              "      <td>0</td>\n",
              "    </tr>\n",
              "    <tr>\n",
              "      <th>30826</th>\n",
              "      <td>4</td>\n",
              "      <td>0</td>\n",
              "      <td>0</td>\n",
              "    </tr>\n",
              "    <tr>\n",
              "      <th>30827</th>\n",
              "      <td>4</td>\n",
              "      <td>2</td>\n",
              "      <td>0</td>\n",
              "    </tr>\n",
              "    <tr>\n",
              "      <th>30828</th>\n",
              "      <td>4</td>\n",
              "      <td>3</td>\n",
              "      <td>0</td>\n",
              "    </tr>\n",
              "  </tbody>\n",
              "</table>\n",
              "<p>30829 rows × 3 columns</p>\n",
              "</div>"
            ],
            "text/plain": [
              "       Group  Category  Rating\n",
              "0          0         0       0\n",
              "1          0         0       0\n",
              "2          0         1       1\n",
              "3          0         0       2\n",
              "4          0         0       2\n",
              "...      ...       ...     ...\n",
              "30824      4         2       0\n",
              "30825      4         0       0\n",
              "30826      4         0       0\n",
              "30827      4         2       0\n",
              "30828      4         3       0\n",
              "\n",
              "[30829 rows x 3 columns]"
            ]
          },
          "metadata": {},
          "execution_count": 5
        }
      ]
    },
    {
      "cell_type": "code",
      "metadata": {
        "colab": {
          "base_uri": "https://localhost:8080/"
        },
        "id": "iLNBKDK4EPqJ",
        "outputId": "b94b5502-84a3-4dae-ba04-2b07fd089a2b"
      },
      "source": [
        "X.dtypes"
      ],
      "execution_count": 6,
      "outputs": [
        {
          "output_type": "execute_result",
          "data": {
            "text/plain": [
              "Group       int64\n",
              "Category    int64\n",
              "Rating      int64\n",
              "dtype: object"
            ]
          },
          "metadata": {},
          "execution_count": 6
        }
      ]
    },
    {
      "cell_type": "code",
      "metadata": {
        "id": "V0AVp4GsHd4V"
      },
      "source": [
        "df2=df.drop([\"Group\",\"Category\",\"Rating\"],axis=1)"
      ],
      "execution_count": 7,
      "outputs": []
    },
    {
      "cell_type": "code",
      "metadata": {
        "colab": {
          "base_uri": "https://localhost:8080/",
          "height": 423
        },
        "id": "bY86g6MhHd7_",
        "outputId": "69f49c59-52ff-436c-d7dd-2eb182d7c91a"
      },
      "source": [
        "data=pd.concat([df2,X],axis=1)\n",
        "data"
      ],
      "execution_count": 8,
      "outputs": [
        {
          "output_type": "execute_result",
          "data": {
            "text/html": [
              "<div>\n",
              "<style scoped>\n",
              "    .dataframe tbody tr th:only-of-type {\n",
              "        vertical-align: middle;\n",
              "    }\n",
              "\n",
              "    .dataframe tbody tr th {\n",
              "        vertical-align: top;\n",
              "    }\n",
              "\n",
              "    .dataframe thead th {\n",
              "        text-align: right;\n",
              "    }\n",
              "</style>\n",
              "<table border=\"1\" class=\"dataframe\">\n",
              "  <thead>\n",
              "    <tr style=\"text-align: right;\">\n",
              "      <th></th>\n",
              "      <th>Customer_ID</th>\n",
              "      <th>Var1</th>\n",
              "      <th>Var2</th>\n",
              "      <th>Purchased_ABC_product</th>\n",
              "      <th>Group</th>\n",
              "      <th>Category</th>\n",
              "      <th>Rating</th>\n",
              "    </tr>\n",
              "  </thead>\n",
              "  <tbody>\n",
              "    <tr>\n",
              "      <th>0</th>\n",
              "      <td>5518</td>\n",
              "      <td>41.534</td>\n",
              "      <td>12.123</td>\n",
              "      <td>0</td>\n",
              "      <td>0</td>\n",
              "      <td>0</td>\n",
              "      <td>0</td>\n",
              "    </tr>\n",
              "    <tr>\n",
              "      <th>1</th>\n",
              "      <td>40515</td>\n",
              "      <td>9.445</td>\n",
              "      <td>0.256</td>\n",
              "      <td>0</td>\n",
              "      <td>0</td>\n",
              "      <td>0</td>\n",
              "      <td>0</td>\n",
              "    </tr>\n",
              "    <tr>\n",
              "      <th>2</th>\n",
              "      <td>52697</td>\n",
              "      <td>37.599</td>\n",
              "      <td>3.199</td>\n",
              "      <td>0</td>\n",
              "      <td>0</td>\n",
              "      <td>1</td>\n",
              "      <td>1</td>\n",
              "    </tr>\n",
              "    <tr>\n",
              "      <th>3</th>\n",
              "      <td>68202</td>\n",
              "      <td>81.514</td>\n",
              "      <td>1.645</td>\n",
              "      <td>0</td>\n",
              "      <td>0</td>\n",
              "      <td>0</td>\n",
              "      <td>2</td>\n",
              "    </tr>\n",
              "    <tr>\n",
              "      <th>4</th>\n",
              "      <td>130003</td>\n",
              "      <td>46.805</td>\n",
              "      <td>1.706</td>\n",
              "      <td>0</td>\n",
              "      <td>0</td>\n",
              "      <td>0</td>\n",
              "      <td>2</td>\n",
              "    </tr>\n",
              "    <tr>\n",
              "      <th>...</th>\n",
              "      <td>...</td>\n",
              "      <td>...</td>\n",
              "      <td>...</td>\n",
              "      <td>...</td>\n",
              "      <td>...</td>\n",
              "      <td>...</td>\n",
              "      <td>...</td>\n",
              "    </tr>\n",
              "    <tr>\n",
              "      <th>30824</th>\n",
              "      <td>7047231</td>\n",
              "      <td>12.094</td>\n",
              "      <td>0.899</td>\n",
              "      <td>1</td>\n",
              "      <td>4</td>\n",
              "      <td>2</td>\n",
              "      <td>0</td>\n",
              "    </tr>\n",
              "    <tr>\n",
              "      <th>30825</th>\n",
              "      <td>7079889</td>\n",
              "      <td>43.214</td>\n",
              "      <td>6.484</td>\n",
              "      <td>1</td>\n",
              "      <td>4</td>\n",
              "      <td>0</td>\n",
              "      <td>0</td>\n",
              "    </tr>\n",
              "    <tr>\n",
              "      <th>30826</th>\n",
              "      <td>7155901</td>\n",
              "      <td>20.902</td>\n",
              "      <td>6.159</td>\n",
              "      <td>1</td>\n",
              "      <td>4</td>\n",
              "      <td>0</td>\n",
              "      <td>0</td>\n",
              "    </tr>\n",
              "    <tr>\n",
              "      <th>30827</th>\n",
              "      <td>7180919</td>\n",
              "      <td>11.443</td>\n",
              "      <td>0.000</td>\n",
              "      <td>0</td>\n",
              "      <td>4</td>\n",
              "      <td>2</td>\n",
              "      <td>0</td>\n",
              "    </tr>\n",
              "    <tr>\n",
              "      <th>30828</th>\n",
              "      <td>7182208</td>\n",
              "      <td>18.485</td>\n",
              "      <td>0.164</td>\n",
              "      <td>0</td>\n",
              "      <td>4</td>\n",
              "      <td>3</td>\n",
              "      <td>0</td>\n",
              "    </tr>\n",
              "  </tbody>\n",
              "</table>\n",
              "<p>30829 rows × 7 columns</p>\n",
              "</div>"
            ],
            "text/plain": [
              "       Customer_ID    Var1    Var2  ...  Group  Category  Rating\n",
              "0             5518  41.534  12.123  ...      0         0       0\n",
              "1            40515   9.445   0.256  ...      0         0       0\n",
              "2            52697  37.599   3.199  ...      0         1       1\n",
              "3            68202  81.514   1.645  ...      0         0       2\n",
              "4           130003  46.805   1.706  ...      0         0       2\n",
              "...            ...     ...     ...  ...    ...       ...     ...\n",
              "30824      7047231  12.094   0.899  ...      4         2       0\n",
              "30825      7079889  43.214   6.484  ...      4         0       0\n",
              "30826      7155901  20.902   6.159  ...      4         0       0\n",
              "30827      7180919  11.443   0.000  ...      4         2       0\n",
              "30828      7182208  18.485   0.164  ...      4         3       0\n",
              "\n",
              "[30829 rows x 7 columns]"
            ]
          },
          "metadata": {},
          "execution_count": 8
        }
      ]
    },
    {
      "cell_type": "code",
      "source": [
        "#Visualisation:\n",
        "import seaborn as sns\n",
        "sns.pairplot(data,hue='Purchased_ABC_product')"
      ],
      "metadata": {
        "colab": {
          "base_uri": "https://localhost:8080/",
          "height": 1000
        },
        "id": "suna7h9Ms7Ha",
        "outputId": "3f6c36f3-398f-41f9-8d2b-6c6c8203faf8"
      },
      "execution_count": 9,
      "outputs": [
        {
          "output_type": "execute_result",
          "data": {
            "text/plain": [
              "<seaborn.axisgrid.PairGrid at 0x7f4a04825310>"
            ]
          },
          "metadata": {},
          "execution_count": 9
        },
        {
          "output_type": "display_data",
          "data": {
            "image/png": "[encoded data removed]",
            "text/plain": [
              "<Figure size 1208.62x1080 with 42 Axes>"
            ]
          },
          "metadata": {
            "needs_background": "light"
          }
        }
      ]
    },
    {
      "cell_type": "markdown",
      "metadata": {
        "id": "zbadQNpKIHRq"
      },
      "source": [
        "## Feature Selection(Extra Trees Classifier)\n",
        "Using extratreesclassifier we can conclude that 'rating','Var1','Var2' variables are influencing most of the purchase of product ‘ABC’.\n"
      ]
    },
    {
      "cell_type": "code",
      "metadata": {
        "id": "6PpHoiyGgeIP"
      },
      "source": [
        "X = data.drop(['Purchased_ABC_product'],axis = 1)# independent features\n",
        "y = data['Purchased_ABC_product']# dependent feature"
      ],
      "execution_count": 11,
      "outputs": []
    },
    {
      "cell_type": "code",
      "metadata": {
        "colab": {
          "base_uri": "https://localhost:8080/"
        },
        "id": "LBn30FL9ovWt",
        "outputId": "a5fa44b5-dac7-4359-d7db-f1b45b16f074"
      },
      "source": [
        "#Feature Importance:\n",
        "model = ExtraTreesClassifier()\n",
        "model.fit(X,y)"
      ],
      "execution_count": 12,
      "outputs": [
        {
          "output_type": "execute_result",
          "data": {
            "text/plain": [
              "ExtraTreesClassifier()"
            ]
          },
          "metadata": {},
          "execution_count": 12
        }
      ]
    },
    {
      "cell_type": "code",
      "metadata": {
        "colab": {
          "base_uri": "https://localhost:8080/"
        },
        "id": "Dbpdylmtpe05",
        "outputId": "136cd3f1-2051-488c-a00b-928e0389bf76"
      },
      "source": [
        "print(model.feature_importances_) "
      ],
      "execution_count": 13,
      "outputs": [
        {
          "output_type": "stream",
          "name": "stdout",
          "text": [
            "[0.19812851 0.24209737 0.38190865 0.01837866 0.06575537 0.09373146]\n"
          ]
        }
      ]
    },
    {
      "cell_type": "code",
      "metadata": {
        "colab": {
          "base_uri": "https://localhost:8080/",
          "height": 700
        },
        "id": "cLicZVHPpe40",
        "outputId": "5f68f0ac-9d5e-42f9-a342-cf97d2c3e189"
      },
      "source": [
        "#plot graph of feature importances for better visualization\n",
        "feat_importances = pd.Series(model.feature_importances_, index=X.columns)\n",
        "plt.figure(figsize=(10,12))\n",
        "feat_importances.nlargest(20).plot(kind='barh')\n",
        "plt.show()"
      ],
      "execution_count": 14,
      "outputs": [
        {
          "output_type": "display_data",
          "data": {
            "image/png": "[encoded data removed]",
            "text/plain": [
              "<Figure size 720x864 with 1 Axes>"
            ]
          },
          "metadata": {
            "needs_background": "light"
          }
        }
      ]
    },
    {
      "cell_type": "markdown",
      "metadata": {
        "id": "BG7U-bgK0WW6"
      },
      "source": [
        "## Check whether the data is balanced or not"
      ]
    },
    {
      "cell_type": "code",
      "metadata": {
        "colab": {
          "base_uri": "https://localhost:8080/",
          "height": 298
        },
        "id": "OvaB2QLrM8bq",
        "outputId": "08b9c7ce-2980-4282-ea10-cd55adca139a"
      },
      "source": [
        "bar = data.groupby(\"Purchased_ABC_product\").count().iloc[:,0]\n",
        "t=sns.barplot(x = bar.index, y=bar.values)\n",
        "t.set_xticklabels(['Non-Purchased','Purchased'])"
      ],
      "execution_count": null,
      "outputs": [
        {
          "output_type": "execute_result",
          "data": {
            "text/plain": [
              "[Text(0, 0, 'Non-Purchased'), Text(0, 0, 'Purchased')]"
            ]
          },
          "metadata": {},
          "execution_count": 26
        },
        {
          "output_type": "display_data",
          "data": {
            "image/png": "[encoded data removed]",
            "text/plain": [
              "<Figure size 432x288 with 1 Axes>"
            ]
          },
          "metadata": {
            "needs_background": "light"
          }
        }
      ]
    },
    {
      "cell_type": "code",
      "metadata": {
        "colab": {
          "base_uri": "https://localhost:8080/"
        },
        "id": "hVHc_Vm3EPqL",
        "outputId": "ebbd7aef-01e0-48a1-cf30-5731580bf762"
      },
      "source": [
        "y.value_counts(normalize=True)"
      ],
      "execution_count": null,
      "outputs": [
        {
          "output_type": "execute_result",
          "data": {
            "text/plain": [
              "1    0.503552\n",
              "0    0.496448\n",
              "Name: Purchased_ABC_product, dtype: float64"
            ]
          },
          "metadata": {},
          "execution_count": 27
        }
      ]
    },
    {
      "cell_type": "markdown",
      "metadata": {
        "id": "7LKiom2czvJb"
      },
      "source": [
        "### Here we can see that our data is balanced."
      ]
    },
    {
      "cell_type": "markdown",
      "metadata": {
        "id": "yu6eiOJC1Tq6"
      },
      "source": [
        "## Spliting the data into training and Testing datset to avoid overfitting."
      ]
    },
    {
      "cell_type": "code",
      "metadata": {
        "id": "VKPJsIby3624"
      },
      "source": [
        "from sklearn.model_selection import train_test_split\n",
        "X_train,X_test,y_train,y_test=train_test_split(X,y,test_size=0.33,random_state=None)"
      ],
      "execution_count": 15,
      "outputs": []
    },
    {
      "cell_type": "markdown",
      "metadata": {
        "id": "AP7wf1ndeUPc"
      },
      "source": [
        "# Model Building"
      ]
    },
    {
      "cell_type": "code",
      "metadata": {
        "id": "cM89hjJk4Hen"
      },
      "source": [
        "result_df = {\n",
        "    \"model\":[],\n",
        "    \"training_score\" :[],\n",
        "    \"testing_score\": []\n",
        "}\n",
        "\n",
        "def modify_result(model, trainSc, testSc):\n",
        "    result_df[\"model\"].append(model)\n",
        "    result_df[\"training_score\"].append(trainSc)\n",
        "    result_df[\"testing_score\"].append(testSc)"
      ],
      "execution_count": 16,
      "outputs": []
    },
    {
      "cell_type": "markdown",
      "metadata": {
        "id": "5QWeaNW23ee7"
      },
      "source": [
        "## Random Forest Classifier"
      ]
    },
    {
      "cell_type": "code",
      "metadata": {
        "colab": {
          "base_uri": "https://localhost:8080/"
        },
        "id": "yDLCx-xceaGN",
        "outputId": "a80e2ce1-f310-4e5d-9916-76a95e1243b8"
      },
      "source": [
        "#Random forest classifier after hyperparameter tunning\n",
        "from sklearn.ensemble import RandomForestClassifier\n",
        "classifier=RandomForestClassifier()\n",
        "classifier.fit(X_train,y_train)"
      ],
      "execution_count": 17,
      "outputs": [
        {
          "output_type": "execute_result",
          "data": {
            "text/plain": [
              "RandomForestClassifier()"
            ]
          },
          "metadata": {},
          "execution_count": 17
        }
      ]
    },
    {
      "cell_type": "code",
      "metadata": {
        "id": "_pm4GPgLeaJa"
      },
      "source": [
        "from sklearn.metrics import roc_curve\n",
        "from sklearn.metrics import roc_auc_score\n",
        "from sklearn.metrics import accuracy_score,classification_report,confusion_matrix"
      ],
      "execution_count": 18,
      "outputs": []
    },
    {
      "cell_type": "code",
      "metadata": {
        "colab": {
          "base_uri": "https://localhost:8080/"
        },
        "id": "Hf5yrWS4DLk5",
        "outputId": "f1b649c8-7be0-4b29-f429-d7644f9d7bf0"
      },
      "source": [
        "y_pred = classifier.predict(X_test)\n",
        "ytrain_pred =classifier.predict_proba(X_train)\n",
        "ytest_pred = classifier.predict_proba(X_test)\n",
        "print(\"Training Score: {}\".format(roc_auc_score(y_train, ytrain_pred[:,1])))\n",
        "print(\"Testing Score:{}\". format(roc_auc_score(y_test, ytest_pred[:,1])))\n",
        "modify_result(\"Random forest classifier\",\n",
        "             accuracy_score(classifier.predict(X_train), y_train),\n",
        "             accuracy_score(y_test,y_pred))"
      ],
      "execution_count": 19,
      "outputs": [
        {
          "output_type": "stream",
          "name": "stdout",
          "text": [
            "Training Score: 1.0\n",
            "Testing Score:0.8496479245555104\n"
          ]
        }
      ]
    },
    {
      "cell_type": "code",
      "metadata": {
        "colab": {
          "base_uri": "https://localhost:8080/"
        },
        "id": "fGSEcVGFTlhs",
        "outputId": "153a6d26-4b1d-4748-bb53-418697a8613b"
      },
      "source": [
        "y_pred=classifier.predict(X_train)\n",
        "print(confusion_matrix(y_train,y_pred))\n",
        "print(accuracy_score(y_train,y_pred))\n",
        "print(classification_report(y_train,y_pred))"
      ],
      "execution_count": 20,
      "outputs": [
        {
          "output_type": "stream",
          "name": "stdout",
          "text": [
            "[[10326     0]\n",
            " [    0 10329]]\n",
            "1.0\n",
            "              precision    recall  f1-score   support\n",
            "\n",
            "           0       1.00      1.00      1.00     10326\n",
            "           1       1.00      1.00      1.00     10329\n",
            "\n",
            "    accuracy                           1.00     20655\n",
            "   macro avg       1.00      1.00      1.00     20655\n",
            "weighted avg       1.00      1.00      1.00     20655\n",
            "\n"
          ]
        }
      ]
    },
    {
      "cell_type": "code",
      "metadata": {
        "colab": {
          "base_uri": "https://localhost:8080/"
        },
        "id": "wIPIx786uuyn",
        "outputId": "c82ef51a-c4cc-46df-e808-4e6e8feb67e8"
      },
      "source": [
        "y_pred=classifier.predict(X_test)\n",
        "print(confusion_matrix(y_test,y_pred))\n",
        "print(accuracy_score(y_test,y_pred))\n",
        "print(classification_report(y_test,y_pred))"
      ],
      "execution_count": 21,
      "outputs": [
        {
          "output_type": "stream",
          "name": "stdout",
          "text": [
            "[[3630 1349]\n",
            " [1145 4050]]\n",
            "0.7548653430312562\n",
            "              precision    recall  f1-score   support\n",
            "\n",
            "           0       0.76      0.73      0.74      4979\n",
            "           1       0.75      0.78      0.76      5195\n",
            "\n",
            "    accuracy                           0.75     10174\n",
            "   macro avg       0.76      0.75      0.75     10174\n",
            "weighted avg       0.76      0.75      0.75     10174\n",
            "\n"
          ]
        }
      ]
    },
    {
      "cell_type": "markdown",
      "metadata": {
        "id": "_SWULong3rwv"
      },
      "source": [
        "## XGBoost Classifier"
      ]
    },
    {
      "cell_type": "code",
      "metadata": {
        "id": "d5Tlg-RxeaPe",
        "colab": {
          "base_uri": "https://localhost:8080/"
        },
        "outputId": "c99913cb-0f9c-4300-93d5-33cef5f7bc32"
      },
      "source": [
        "import xgboost \n",
        "from xgboost import XGBClassifier\n",
        "clf =XGBClassifier(base_score=0.5, booster='gbtree', colsample_bylevel=1,\n",
        "              colsample_bynode=1, colsample_bytree=1, gamma=0,eval_metric='auc',\n",
        "              learning_rate=0.1, max_delta_step=0, max_depth=3,\n",
        "              min_child_weight=0, missing=None, n_estimators=300, n_jobs=1,\n",
        "              nthread=None, objective='binary:logistic', random_state=100,\n",
        "              reg_alpha=0, reg_lambda=1, scale_pos_weight=1, seed=10,\n",
        "              silent=None, subsample=1, verbosity=1)\n",
        "clf.fit(X_train, y_train)"
      ],
      "execution_count": 29,
      "outputs": [
        {
          "output_type": "execute_result",
          "data": {
            "text/plain": [
              "XGBClassifier(eval_metric='auc', min_child_weight=0, n_estimators=300,\n",
              "              random_state=100, seed=10)"
            ]
          },
          "metadata": {},
          "execution_count": 29
        }
      ]
    },
    {
      "cell_type": "code",
      "metadata": {
        "colab": {
          "base_uri": "https://localhost:8080/"
        },
        "id": "-_htIN6E7sm7",
        "outputId": "e0506e5b-8db0-4456-f5fd-114e129a28c4"
      },
      "source": [
        "import xgboost \n",
        "from xgboost import XGBClassifier\n",
        "#clf =XGBClassifier(n_estimators=1000)\n",
        "#clf.fit(X_train, y_train)"
      ],
      "execution_count": 26,
      "outputs": [
        {
          "output_type": "execute_result",
          "data": {
            "text/plain": [
              "XGBClassifier(n_estimators=1000)"
            ]
          },
          "metadata": {},
          "execution_count": 26
        }
      ]
    },
    {
      "cell_type": "code",
      "metadata": {
        "colab": {
          "base_uri": "https://localhost:8080/"
        },
        "id": "oyIlyp9P-ay8",
        "outputId": "82066e94-9885-49b2-d8aa-4fad268118bb"
      },
      "source": [
        "y_pred = clf.predict(X_test)\n",
        "ytrain_pred =clf.predict_proba(X_train)\n",
        "ytest_pred = clf.predict_proba(X_test)\n",
        "print(\"Training Score: {}\".format(roc_auc_score(y_train, ytrain_pred[:,1])))\n",
        "print(\"Testing Score:{}\". format(roc_auc_score(y_test, ytest_pred[:,1])))\n",
        "modify_result(\"XGBoost\",\n",
        "             accuracy_score(classifier.predict(X_train), y_train),\n",
        "             accuracy_score(y_test,y_pred))"
      ],
      "execution_count": 23,
      "outputs": [
        {
          "output_type": "stream",
          "name": "stdout",
          "text": [
            "Training Score: 0.8805696235157152\n",
            "Testing Score:0.8662053579799354\n"
          ]
        }
      ]
    },
    {
      "cell_type": "code",
      "metadata": {
        "colab": {
          "base_uri": "https://localhost:8080/"
        },
        "id": "uISCc8RqN78R",
        "outputId": "87c00760-657e-4364-f922-a809ea9bcfdd"
      },
      "source": [
        "y_pred=clf.predict(X_train)\n",
        "print(confusion_matrix(y_train,y_pred))\n",
        "print(accuracy_score(y_train,y_pred))\n",
        "print(classification_report(y_train,y_pred))"
      ],
      "execution_count": 30,
      "outputs": [
        {
          "output_type": "stream",
          "name": "stdout",
          "text": [
            "[[7659 2667]\n",
            " [1758 8571]]\n",
            "0.7857661583151779\n",
            "              precision    recall  f1-score   support\n",
            "\n",
            "           0       0.81      0.74      0.78     10326\n",
            "           1       0.76      0.83      0.79     10329\n",
            "\n",
            "    accuracy                           0.79     20655\n",
            "   macro avg       0.79      0.79      0.79     20655\n",
            "weighted avg       0.79      0.79      0.79     20655\n",
            "\n"
          ]
        }
      ]
    },
    {
      "cell_type": "code",
      "metadata": {
        "colab": {
          "base_uri": "https://localhost:8080/"
        },
        "id": "tEKnxS5hN7_u",
        "outputId": "81267a3b-9860-484c-bfbb-0d65bf66b964"
      },
      "source": [
        "y_pred=clf.predict(X_test)\n",
        "print(confusion_matrix(y_test,y_pred))\n",
        "print(accuracy_score(y_test,y_pred))\n",
        "print(classification_report(y_test,y_pred))"
      ],
      "execution_count": 31,
      "outputs": [
        {
          "output_type": "stream",
          "name": "stdout",
          "text": [
            "[[3579 1400]\n",
            " [ 940 4255]]\n",
            "0.7700019657951641\n",
            "              precision    recall  f1-score   support\n",
            "\n",
            "           0       0.79      0.72      0.75      4979\n",
            "           1       0.75      0.82      0.78      5195\n",
            "\n",
            "    accuracy                           0.77     10174\n",
            "   macro avg       0.77      0.77      0.77     10174\n",
            "weighted avg       0.77      0.77      0.77     10174\n",
            "\n"
          ]
        }
      ]
    },
    {
      "cell_type": "code",
      "metadata": {
        "id": "tOHt4zdW_qXL"
      },
      "source": [
        "#clf =CatBoostClassifier(n_estimators=1000)\n",
        "#clf.fit(X_train, y_train)"
      ],
      "execution_count": null,
      "outputs": []
    },
    {
      "cell_type": "code",
      "metadata": {
        "id": "Ndz_Jok0CUg-"
      },
      "source": [
        "!pip install catboost"
      ],
      "execution_count": null,
      "outputs": []
    },
    {
      "cell_type": "code",
      "metadata": {
        "id": "wKjPoAur_qPs"
      },
      "source": [
        "#import lightgbm \n",
        "#from lightgbm import LGBMClassifier\n",
        "#import catboost\n",
        "#from catboost import CatBoostClassifier"
      ],
      "execution_count": null,
      "outputs": []
    },
    {
      "cell_type": "code",
      "metadata": {
        "id": "xDtwB1L3_qTg",
        "colab": {
          "base_uri": "https://localhost:8080/"
        },
        "outputId": "16586b22-2a07-4627-dabb-7aba36c3699d"
      },
      "source": [
        "#clf =LGBMClassifier(n_estimators=1000)\n",
        "#clf.fit(X_train, y_train)"
      ],
      "execution_count": null,
      "outputs": [
        {
          "output_type": "execute_result",
          "data": {
            "text/plain": [
              "LGBMClassifier(n_estimators=1000)"
            ]
          },
          "metadata": {},
          "execution_count": 55
        }
      ]
    },
    {
      "cell_type": "markdown",
      "metadata": {
        "id": "9QdWqvNB8uDW"
      },
      "source": [
        "### Hyperparameter optimization using RandomizedSearchCV in XGBoost"
      ]
    },
    {
      "cell_type": "code",
      "metadata": {
        "id": "E9q6PL5Pg8_H"
      },
      "source": [
        "## Hyperparameter optimization using RandomizedSearchCV\n",
        "from sklearn.model_selection import RandomizedSearchCV\n",
        "params={\n",
        " \"learning_rate\"    : [0.05, 0.10, 0.15, 0.20, 0.25, 0.30 ] ,\n",
        " \"max_depth\"        : [ 3, 4, 5, 6, 8, 10, 12, 15],\n",
        " \"min_child_weight\" : [ 1, 3, 5, 7 ],\n",
        " \"gamma\"            : [ 0.0, 0.1, 0.2 , 0.3, 0.4 ],\n",
        " \"colsample_bytree\" : [ 0.3, 0.4, 0.5 , 0.7 ]\n",
        "}"
      ],
      "execution_count": 32,
      "outputs": []
    },
    {
      "cell_type": "code",
      "metadata": {
        "id": "83DU4LaAidNU"
      },
      "source": [
        "classifier=xgboost.XGBClassifier()\n",
        "random_search=RandomizedSearchCV(classifier,param_distributions=params,n_iter=5,scoring='roc_auc',n_jobs=-1,refit=True,cv=10,verbose=3)"
      ],
      "execution_count": 33,
      "outputs": []
    },
    {
      "cell_type": "code",
      "metadata": {
        "colab": {
          "base_uri": "https://localhost:8080/"
        },
        "id": "4LOvmpPlidQT",
        "outputId": "98dfeb27-b277-464e-a747-9cde1e7aadcd"
      },
      "source": [
        "random_search.get_params"
      ],
      "execution_count": 34,
      "outputs": [
        {
          "output_type": "execute_result",
          "data": {
            "text/plain": [
              "<bound method BaseEstimator.get_params of RandomizedSearchCV(cv=10, estimator=XGBClassifier(), n_iter=5, n_jobs=-1,\n",
              "                   param_distributions={'colsample_bytree': [0.3, 0.4, 0.5,\n",
              "                                                             0.7],\n",
              "                                        'gamma': [0.0, 0.1, 0.2, 0.3, 0.4],\n",
              "                                        'learning_rate': [0.05, 0.1, 0.15, 0.2,\n",
              "                                                          0.25, 0.3],\n",
              "                                        'max_depth': [3, 4, 5, 6, 8, 10, 12,\n",
              "                                                      15],\n",
              "                                        'min_child_weight': [1, 3, 5, 7]},\n",
              "                   scoring='roc_auc', verbose=3)>"
            ]
          },
          "metadata": {},
          "execution_count": 34
        }
      ]
    },
    {
      "cell_type": "code",
      "metadata": {
        "colab": {
          "base_uri": "https://localhost:8080/"
        },
        "id": "aGuAppMFidTq",
        "outputId": "943f0a86-4d09-4eed-d945-1ec9020f63f9"
      },
      "source": [
        "random_search.estimator"
      ],
      "execution_count": 35,
      "outputs": [
        {
          "output_type": "execute_result",
          "data": {
            "text/plain": [
              "XGBClassifier()"
            ]
          },
          "metadata": {},
          "execution_count": 35
        }
      ]
    },
    {
      "cell_type": "code",
      "metadata": {
        "colab": {
          "base_uri": "https://localhost:8080/"
        },
        "id": "1rc435QzirAL",
        "outputId": "75d20931-dfa7-433a-9de0-f6f51e74e462"
      },
      "source": [
        "\n",
        "classifier=xgboost.XGBClassifier(base_score=0.5, booster='dart', colsample_bylevel=1,\n",
        "              colsample_bynode=1, colsample_bytree=1, gamma=0,eval_metric='auc',\n",
        "              learning_rate=0.1, max_delta_step=0, max_depth=3,\n",
        "              min_child_weight=0, missing=None, n_estimators=300, n_jobs=1,\n",
        "              nthread=None, objective='binary:logistic', random_state=100,\n",
        "              reg_alpha=0, reg_lambda=1, scale_pos_weight=1, seed=10,\n",
        "              silent=None, subsample=1, verbosity=1)\n",
        "classifier.fit(X_train,y_train)"
      ],
      "execution_count": null,
      "outputs": [
        {
          "output_type": "execute_result",
          "data": {
            "text/plain": [
              "XGBClassifier(booster='dart', eval_metric='auc', min_child_weight=0,\n",
              "              n_estimators=300, random_state=100, seed=10)"
            ]
          },
          "metadata": {},
          "execution_count": 66
        }
      ]
    },
    {
      "cell_type": "markdown",
      "metadata": {
        "id": "5O0-Hu804Uf8"
      },
      "source": [
        "##Gradient Boosting Classifier"
      ]
    },
    {
      "cell_type": "code",
      "metadata": {
        "id": "QBQXE_ARf5yy",
        "colab": {
          "base_uri": "https://localhost:8080/",
          "height": 658
        },
        "outputId": "ddf6ba24-a986-4a71-b8f4-3cfccd22177f"
      },
      "source": [
        "#Gradient Boosting\n",
        "from sklearn.ensemble import GradientBoostingClassifier\n",
        "from sklearn.metrics import accuracy_score, confusion_matrix\n",
        "clf_gr = GradientBoostingClassifier(n_estimators= 100,learning_rate =0.01, max_depth = 3, random_state = 0)\n",
        "clf_gr.fit(X_train, y_train)\n",
        "\n",
        "pred_gr = clf_gr.predict(X_test)\n",
        "\n",
        "print('(learning_rate=0.01, max_depth=3)')\n",
        "print('Accuracy of GBDT classifier on training set: {:.2f}'\n",
        "     .format(clf_gr.score(X_train, y_train)))\n",
        "print('Accuracy of GBDT classifier on test set: {}'\n",
        "     .format(clf_gr.score(X_test, y_test)))\n",
        "print('Accuracy score: {}'.format(accuracy_score(y_test, pred_gr)))\n",
        "\n",
        "print('y_test and pred: {}'.format(y_test[:20]))\n",
        "print('pred: {}'.format(pred_gr))\n",
        "from sklearn.metrics import classification_report\n",
        "reportLReg_gf = classification_report(y_test, pred_gr, output_dict=True)\n",
        "crLReg_gf = pd.DataFrame(reportLReg_gf).transpose()\n",
        "crLReg_gf\n"
      ],
      "execution_count": 36,
      "outputs": [
        {
          "output_type": "stream",
          "name": "stdout",
          "text": [
            "(learning_rate=0.01, max_depth=3)\n",
            "Accuracy of GBDT classifier on training set: 0.76\n",
            "Accuracy of GBDT classifier on test set: 0.763908000786318\n",
            "Accuracy score: 0.763908000786318\n",
            "y_test and pred: 8477     1\n",
            "8357     0\n",
            "26743    1\n",
            "17930    0\n",
            "7948     0\n",
            "25101    1\n",
            "7890     1\n",
            "12173    0\n",
            "10948    1\n",
            "5353     1\n",
            "18621    1\n",
            "13023    0\n",
            "6370     1\n",
            "15700    1\n",
            "8098     0\n",
            "26476    1\n",
            "10225    1\n",
            "24360    1\n",
            "29064    0\n",
            "13501    1\n",
            "Name: Purchased_ABC_product, dtype: int64\n",
            "pred: [1 0 1 ... 1 1 0]\n"
          ]
        },
        {
          "output_type": "execute_result",
          "data": {
            "text/html": [
              "<div>\n",
              "<style scoped>\n",
              "    .dataframe tbody tr th:only-of-type {\n",
              "        vertical-align: middle;\n",
              "    }\n",
              "\n",
              "    .dataframe tbody tr th {\n",
              "        vertical-align: top;\n",
              "    }\n",
              "\n",
              "    .dataframe thead th {\n",
              "        text-align: right;\n",
              "    }\n",
              "</style>\n",
              "<table border=\"1\" class=\"dataframe\">\n",
              "  <thead>\n",
              "    <tr style=\"text-align: right;\">\n",
              "      <th></th>\n",
              "      <th>precision</th>\n",
              "      <th>recall</th>\n",
              "      <th>f1-score</th>\n",
              "      <th>support</th>\n",
              "    </tr>\n",
              "  </thead>\n",
              "  <tbody>\n",
              "    <tr>\n",
              "      <th>0</th>\n",
              "      <td>0.809959</td>\n",
              "      <td>0.676240</td>\n",
              "      <td>0.737084</td>\n",
              "      <td>4979.000000</td>\n",
              "    </tr>\n",
              "    <tr>\n",
              "      <th>1</th>\n",
              "      <td>0.732092</td>\n",
              "      <td>0.847931</td>\n",
              "      <td>0.785765</td>\n",
              "      <td>5195.000000</td>\n",
              "    </tr>\n",
              "    <tr>\n",
              "      <th>accuracy</th>\n",
              "      <td>0.763908</td>\n",
              "      <td>0.763908</td>\n",
              "      <td>0.763908</td>\n",
              "      <td>0.763908</td>\n",
              "    </tr>\n",
              "    <tr>\n",
              "      <th>macro avg</th>\n",
              "      <td>0.771026</td>\n",
              "      <td>0.762085</td>\n",
              "      <td>0.761425</td>\n",
              "      <td>10174.000000</td>\n",
              "    </tr>\n",
              "    <tr>\n",
              "      <th>weighted avg</th>\n",
              "      <td>0.770199</td>\n",
              "      <td>0.763908</td>\n",
              "      <td>0.761941</td>\n",
              "      <td>10174.000000</td>\n",
              "    </tr>\n",
              "  </tbody>\n",
              "</table>\n",
              "</div>"
            ],
            "text/plain": [
              "              precision    recall  f1-score       support\n",
              "0              0.809959  0.676240  0.737084   4979.000000\n",
              "1              0.732092  0.847931  0.785765   5195.000000\n",
              "accuracy       0.763908  0.763908  0.763908      0.763908\n",
              "macro avg      0.771026  0.762085  0.761425  10174.000000\n",
              "weighted avg   0.770199  0.763908  0.761941  10174.000000"
            ]
          },
          "metadata": {},
          "execution_count": 36
        }
      ]
    },
    {
      "cell_type": "code",
      "metadata": {
        "colab": {
          "base_uri": "https://localhost:8080/"
        },
        "id": "XL6b8dQVCQmT",
        "outputId": "1a6a9122-29b3-4ba6-b76f-507e268b17a2"
      },
      "source": [
        "y_pred = clf_gr.predict(X_test)\n",
        "ytrain_pred =clf_gr.predict_proba(X_train)\n",
        "ytest_pred = clf_gr.predict_proba(X_test)\n",
        "print(\"Training Score: {}\".format(roc_auc_score(y_train, ytrain_pred[:,1])))\n",
        "print(\"Testing Score:{}\". format(roc_auc_score(y_test, ytest_pred[:,1])))\n",
        "modify_result(\"Gradient Boosting\",\n",
        "             accuracy_score(clf_gr.predict(X_train), y_train),\n",
        "             accuracy_score(y_test,y_pred))"
      ],
      "execution_count": 37,
      "outputs": [
        {
          "output_type": "stream",
          "name": "stdout",
          "text": [
            "Training Score: 0.8595694250669532\n",
            "Testing Score:0.8595926761503223\n"
          ]
        }
      ]
    },
    {
      "cell_type": "code",
      "metadata": {
        "colab": {
          "base_uri": "https://localhost:8080/"
        },
        "id": "AJO9vfsF0gCc",
        "outputId": "b0512805-4f69-4769-c692-d2f8ca6620c2"
      },
      "source": [
        "y_pred=clf_gr.predict(X_test)\n",
        "print(confusion_matrix(y_test,y_pred))\n",
        "print(accuracy_score(y_test,y_pred))\n",
        "print(classification_report(y_test,y_pred))"
      ],
      "execution_count": 38,
      "outputs": [
        {
          "output_type": "stream",
          "name": "stdout",
          "text": [
            "[[3367 1612]\n",
            " [ 790 4405]]\n",
            "0.763908000786318\n",
            "              precision    recall  f1-score   support\n",
            "\n",
            "           0       0.81      0.68      0.74      4979\n",
            "           1       0.73      0.85      0.79      5195\n",
            "\n",
            "    accuracy                           0.76     10174\n",
            "   macro avg       0.77      0.76      0.76     10174\n",
            "weighted avg       0.77      0.76      0.76     10174\n",
            "\n"
          ]
        }
      ]
    },
    {
      "cell_type": "markdown",
      "metadata": {
        "id": "tJYkQQPR44Ms"
      },
      "source": [
        "## Guassian Naive Bayes"
      ]
    },
    {
      "cell_type": "code",
      "metadata": {
        "colab": {
          "base_uri": "https://localhost:8080/"
        },
        "id": "CWQNMp6gzDPG",
        "outputId": "a0f1dc71-2144-4257-bcdd-3015cdd69a11"
      },
      "source": [
        "#Guassian Naive Bayes\n",
        "from sklearn.naive_bayes import GaussianNB as GB\n",
        "classifier= GB()\n",
        "classifier.fit(X_train,y_train)"
      ],
      "execution_count": 39,
      "outputs": [
        {
          "output_type": "execute_result",
          "data": {
            "text/plain": [
              "GaussianNB()"
            ]
          },
          "metadata": {},
          "execution_count": 39
        }
      ]
    },
    {
      "cell_type": "code",
      "metadata": {
        "colab": {
          "base_uri": "https://localhost:8080/"
        },
        "id": "LwZSkLAIBCSL",
        "outputId": "a5256081-5662-4d78-eee7-3625b1eb304b"
      },
      "source": [
        "y_pred = classifier.predict(X_test)\n",
        "ytrain_pred =classifier.predict_proba(X_train)\n",
        "ytest_pred = classifier.predict_proba(X_test)\n",
        "print(\"Training Score: {}\".format(roc_auc_score(y_train, ytrain_pred[:,1])))\n",
        "print(\"Testing Score:{}\". format(roc_auc_score(y_test, ytest_pred[:,1])))\n",
        "modify_result(\"Guassian Naive Bayes\",\n",
        "             accuracy_score(classifier.predict(X_train), y_train),\n",
        "             accuracy_score(y_test,y_pred))"
      ],
      "execution_count": 40,
      "outputs": [
        {
          "output_type": "stream",
          "name": "stdout",
          "text": [
            "Training Score: 0.7414547209325303\n",
            "Testing Score:0.7506868404565779\n"
          ]
        }
      ]
    },
    {
      "cell_type": "code",
      "metadata": {
        "colab": {
          "base_uri": "https://localhost:8080/"
        },
        "id": "lTFGsprSE-84",
        "outputId": "c0ca5621-5b11-4308-af08-4d0aa0a963a4"
      },
      "source": [
        "y_pred=classifier.predict(X_test)\n",
        "print(confusion_matrix(y_test,y_pred))\n",
        "print(accuracy_score(y_test,y_pred))\n",
        "print(classification_report(y_test,y_pred))"
      ],
      "execution_count": 41,
      "outputs": [
        {
          "output_type": "stream",
          "name": "stdout",
          "text": [
            "[[4884   95]\n",
            " [4072 1123]]\n",
            "0.5904265775506192\n",
            "              precision    recall  f1-score   support\n",
            "\n",
            "           0       0.55      0.98      0.70      4979\n",
            "           1       0.92      0.22      0.35      5195\n",
            "\n",
            "    accuracy                           0.59     10174\n",
            "   macro avg       0.73      0.60      0.53     10174\n",
            "weighted avg       0.74      0.59      0.52     10174\n",
            "\n"
          ]
        }
      ]
    },
    {
      "cell_type": "markdown",
      "metadata": {
        "id": "8rPK1tfM4_Vx"
      },
      "source": [
        "## AdaBoost Classifier"
      ]
    },
    {
      "cell_type": "code",
      "metadata": {
        "colab": {
          "base_uri": "https://localhost:8080/"
        },
        "id": "8dFnTC5fzDWI",
        "outputId": "66e2ceed-e07c-473c-8020-4fa63c552438"
      },
      "source": [
        "##Adaboost classification\n",
        "from sklearn.model_selection import KFold\n",
        "from sklearn.model_selection import cross_val_score\n",
        "from sklearn.ensemble import AdaBoostClassifier\n",
        "num_trees = 10\n",
        "seed=7\n",
        "kfold = KFold(n_splits=10, random_state=None)\n",
        "model = AdaBoostClassifier(n_estimators=num_trees, random_state=None)\n",
        "model.fit(X_train,y_train)"
      ],
      "execution_count": 42,
      "outputs": [
        {
          "output_type": "execute_result",
          "data": {
            "text/plain": [
              "AdaBoostClassifier(n_estimators=10)"
            ]
          },
          "metadata": {},
          "execution_count": 42
        }
      ]
    },
    {
      "cell_type": "code",
      "metadata": {
        "colab": {
          "base_uri": "https://localhost:8080/"
        },
        "id": "zLNuFc-s-r1w",
        "outputId": "284714a6-5932-42dd-de0c-4cc4ae78d2c5"
      },
      "source": [
        "y_pred = model.predict(X_test)\n",
        "ytrain_pred =model.predict_proba(X_train)\n",
        "ytest_pred = model.predict_proba(X_test)\n",
        "print(\"Training Score: {}\".format(roc_auc_score(y_train, ytrain_pred[:,1])))\n",
        "print(\"Testing Score:{}\". format(roc_auc_score(y_test, ytest_pred[:,1])))\n",
        "modify_result(\"Adaboost classifier\",\n",
        "             accuracy_score(model.predict(X_train), y_train),\n",
        "             accuracy_score(y_test,y_pred))"
      ],
      "execution_count": 43,
      "outputs": [
        {
          "output_type": "stream",
          "name": "stdout",
          "text": [
            "Training Score: 0.8519436990192903\n",
            "Testing Score:0.8533695998651507\n"
          ]
        }
      ]
    },
    {
      "cell_type": "code",
      "metadata": {
        "colab": {
          "base_uri": "https://localhost:8080/"
        },
        "id": "9rOnBIUpFJOo",
        "outputId": "d5fb3c4a-4cf4-4c2a-a14b-c50719d2cbc9"
      },
      "source": [
        "y_pred=model.predict(X_test)\n",
        "print(confusion_matrix(y_test,y_pred))\n",
        "print(accuracy_score(y_test,y_pred))\n",
        "print(classification_report(y_test,y_pred))"
      ],
      "execution_count": 44,
      "outputs": [
        {
          "output_type": "stream",
          "name": "stdout",
          "text": [
            "[[3234 1745]\n",
            " [ 665 4530]]\n",
            "0.7631216827206605\n",
            "              precision    recall  f1-score   support\n",
            "\n",
            "           0       0.83      0.65      0.73      4979\n",
            "           1       0.72      0.87      0.79      5195\n",
            "\n",
            "    accuracy                           0.76     10174\n",
            "   macro avg       0.78      0.76      0.76     10174\n",
            "weighted avg       0.77      0.76      0.76     10174\n",
            "\n"
          ]
        }
      ]
    },
    {
      "cell_type": "markdown",
      "metadata": {
        "id": "ZiskLRAA5IJ_"
      },
      "source": [
        "## Logistic Regression"
      ]
    },
    {
      "cell_type": "code",
      "metadata": {
        "colab": {
          "base_uri": "https://localhost:8080/"
        },
        "id": "cGWmQranzDej",
        "outputId": "951f85c3-03b9-4bf9-e314-a14be4a249c9"
      },
      "source": [
        "#logistic regression\n",
        "from sklearn.linear_model import LogisticRegression\n",
        "clf1=LogisticRegression()\n",
        "clf1.fit(X_train,y_train)"
      ],
      "execution_count": 45,
      "outputs": [
        {
          "output_type": "execute_result",
          "data": {
            "text/plain": [
              "LogisticRegression()"
            ]
          },
          "metadata": {},
          "execution_count": 45
        }
      ]
    },
    {
      "cell_type": "code",
      "metadata": {
        "colab": {
          "base_uri": "https://localhost:8080/"
        },
        "id": "2dUFOmmi9W8e",
        "outputId": "f9330bc4-d1dd-4d55-8737-928efe41a806"
      },
      "source": [
        "y_pred = clf1.predict(X_test)\n",
        "ytrain_pred =clf.predict_proba(X_train)\n",
        "ytest_pred = clf.predict_proba(X_test)\n",
        "print(\"Training Score: {}\".format(roc_auc_score(y_train, ytrain_pred[:,1])))\n",
        "print(\"Testing Score:{}\". format(roc_auc_score(y_test, ytest_pred[:,1])))\n",
        "modify_result(\"Logistic Regression\",\n",
        "             accuracy_score(clf1.predict(X_train), y_train),\n",
        "             accuracy_score(y_test, y_pred))"
      ],
      "execution_count": 46,
      "outputs": [
        {
          "output_type": "stream",
          "name": "stdout",
          "text": [
            "Training Score: 0.8805696235157152\n",
            "Testing Score:0.8662053579799354\n"
          ]
        }
      ]
    },
    {
      "cell_type": "code",
      "metadata": {
        "colab": {
          "base_uri": "https://localhost:8080/"
        },
        "id": "Lfpr_TcsFuHh",
        "outputId": "71fb2dba-5ca7-433b-e513-92d578b6920a"
      },
      "source": [
        "y_pred = clf1.predict(X_test)\n",
        "print(confusion_matrix(y_test,y_pred))\n",
        "print(accuracy_score(y_test,y_pred))\n",
        "print(classification_report(y_test,y_pred))"
      ],
      "execution_count": 47,
      "outputs": [
        {
          "output_type": "stream",
          "name": "stdout",
          "text": [
            "[[2727 2252]\n",
            " [1420 3775]]\n",
            "0.6390800078631806\n",
            "              precision    recall  f1-score   support\n",
            "\n",
            "           0       0.66      0.55      0.60      4979\n",
            "           1       0.63      0.73      0.67      5195\n",
            "\n",
            "    accuracy                           0.64     10174\n",
            "   macro avg       0.64      0.64      0.64     10174\n",
            "weighted avg       0.64      0.64      0.64     10174\n",
            "\n"
          ]
        }
      ]
    },
    {
      "cell_type": "markdown",
      "metadata": {
        "id": "R9Fo6tyr5MDm"
      },
      "source": [
        "## KNeighbors Classifier"
      ]
    },
    {
      "cell_type": "code",
      "metadata": {
        "colab": {
          "base_uri": "https://localhost:8080/"
        },
        "id": "CpKcEU_R1RXj",
        "outputId": "512aee63-9598-44ca-be2f-7c38ac489d66"
      },
      "source": [
        "#KNN\n",
        "from sklearn.neighbors import KNeighborsClassifier\n",
        "knn_classifier=KNeighborsClassifier()\n",
        "knn_classifier.fit(X_train, y_train)"
      ],
      "execution_count": 48,
      "outputs": [
        {
          "output_type": "execute_result",
          "data": {
            "text/plain": [
              "KNeighborsClassifier()"
            ]
          },
          "metadata": {},
          "execution_count": 48
        }
      ]
    },
    {
      "cell_type": "code",
      "metadata": {
        "colab": {
          "base_uri": "https://localhost:8080/"
        },
        "id": "9utlIPN68Rzd",
        "outputId": "9d315c88-bbf4-40ef-ab34-0ed9481baf1f"
      },
      "source": [
        "y_pred = knn_classifier.predict(X_test)\n",
        "ytrain_pred =knn_classifier.predict_proba(X_train)\n",
        "ytest_pred = knn_classifier.predict_proba(X_test)\n",
        "print(\"Training Score: {}\".format(roc_auc_score(y_train, ytrain_pred[:,1])))\n",
        "print(\"Testing Score:{}\". format(roc_auc_score(y_test, ytest_pred[:,1])))\n",
        "modify_result(\"KNN\",\n",
        "             accuracy_score(knn_classifier.predict(X_train), y_train),\n",
        "             accuracy_score(y_test, y_pred))"
      ],
      "execution_count": 49,
      "outputs": [
        {
          "output_type": "stream",
          "name": "stdout",
          "text": [
            "Training Score: 0.764250212179661\n",
            "Testing Score:0.5312318281537027\n"
          ]
        }
      ]
    },
    {
      "cell_type": "code",
      "metadata": {
        "colab": {
          "base_uri": "https://localhost:8080/"
        },
        "id": "MR_dVpr3F5BP",
        "outputId": "7ab867bd-f490-45e0-cbbc-e30ed7b9cef6"
      },
      "source": [
        "print(confusion_matrix(y_test,y_pred))\n",
        "print(accuracy_score(y_test,y_pred))\n",
        "print(classification_report(y_test,y_pred))"
      ],
      "execution_count": 50,
      "outputs": [
        {
          "output_type": "stream",
          "name": "stdout",
          "text": [
            "[[2775 2204]\n",
            " [2678 2517]]\n",
            "0.5201494004324749\n",
            "              precision    recall  f1-score   support\n",
            "\n",
            "           0       0.51      0.56      0.53      4979\n",
            "           1       0.53      0.48      0.51      5195\n",
            "\n",
            "    accuracy                           0.52     10174\n",
            "   macro avg       0.52      0.52      0.52     10174\n",
            "weighted avg       0.52      0.52      0.52     10174\n",
            "\n"
          ]
        }
      ]
    },
    {
      "cell_type": "markdown",
      "metadata": {
        "id": "Jmgvmigk5XD4"
      },
      "source": [
        "## DecisionTree Classifier"
      ]
    },
    {
      "cell_type": "code",
      "metadata": {
        "colab": {
          "base_uri": "https://localhost:8080/"
        },
        "id": "26l_VT7b1Rdv",
        "outputId": "c60134b8-fadb-4f3f-8075-799bb41402cb"
      },
      "source": [
        "#Decision Tree Classifier\n",
        "from sklearn.tree import DecisionTreeClassifier\n",
        "model= DecisionTreeClassifier()\n",
        "model.fit(X_train, y_train)"
      ],
      "execution_count": 51,
      "outputs": [
        {
          "output_type": "execute_result",
          "data": {
            "text/plain": [
              "DecisionTreeClassifier()"
            ]
          },
          "metadata": {},
          "execution_count": 51
        }
      ]
    },
    {
      "cell_type": "code",
      "metadata": {
        "id": "6Vmy8dRz5TCb",
        "colab": {
          "base_uri": "https://localhost:8080/"
        },
        "outputId": "b670b3a0-1bfc-432d-8569-44ab99c07a0e"
      },
      "source": [
        "y_pred = model.predict(X_test)\n",
        "ytrain_pred = model.predict_proba(X_train)\n",
        "ytest_pred = model.predict_proba(X_test)\n",
        "print(\"Training Score: {}\".format(roc_auc_score(y_train, ytrain_pred[:,1])))\n",
        "print(\"Testing Score:{}\". format(roc_auc_score(y_test, ytest_pred[:,1])))\n",
        "modify_result(\"Decision Tree Classifier\",\n",
        "             accuracy_score(model.predict(X_train), y_train),\n",
        "             accuracy_score(y_test, y_pred))"
      ],
      "execution_count": 52,
      "outputs": [
        {
          "output_type": "stream",
          "name": "stdout",
          "text": [
            "Training Score: 1.0\n",
            "Testing Score:0.710069162474694\n"
          ]
        }
      ]
    },
    {
      "cell_type": "code",
      "metadata": {
        "colab": {
          "base_uri": "https://localhost:8080/"
        },
        "id": "p2CtVv37GkKT",
        "outputId": "9c5f6fd5-65e1-4227-af7c-e3cd03f2cc1f"
      },
      "source": [
        "y_pred=model.predict(X_test)\n",
        "print(confusion_matrix(y_test,y_pred))\n",
        "print(accuracy_score(y_test,y_pred))\n",
        "print(classification_report(y_test,y_pred))"
      ],
      "execution_count": 53,
      "outputs": [
        {
          "output_type": "stream",
          "name": "stdout",
          "text": [
            "[[3518 1461]\n",
            " [1488 3707]]\n",
            "0.7101435030469825\n",
            "              precision    recall  f1-score   support\n",
            "\n",
            "           0       0.70      0.71      0.70      4979\n",
            "           1       0.72      0.71      0.72      5195\n",
            "\n",
            "    accuracy                           0.71     10174\n",
            "   macro avg       0.71      0.71      0.71     10174\n",
            "weighted avg       0.71      0.71      0.71     10174\n",
            "\n"
          ]
        }
      ]
    },
    {
      "cell_type": "markdown",
      "metadata": {
        "id": "Q1JrUlaA5hqj"
      },
      "source": [
        "## Bagging Classifier"
      ]
    },
    {
      "cell_type": "code",
      "metadata": {
        "colab": {
          "base_uri": "https://localhost:8080/"
        },
        "id": "EHpacwrU8B-b",
        "outputId": "7b99d95a-2bcd-4236-9d9a-1afe7483deb3"
      },
      "source": [
        "from sklearn.model_selection import KFold\n",
        "from sklearn.model_selection import cross_val_score\n",
        "from sklearn.ensemble import BaggingClassifier\n",
        "from sklearn.tree import DecisionTreeClassifier\n",
        "seed = 7\n",
        "kfold = KFold(n_splits=10, random_state=seed,shuffle=True)\n",
        "cart = DecisionTreeClassifier()\n",
        "num_trees = 100\n",
        "\n",
        "model1 = BaggingClassifier(base_estimator=cart, n_estimators=num_trees, random_state=seed)\n",
        "model1.fit(X_train,y_train)"
      ],
      "execution_count": 54,
      "outputs": [
        {
          "output_type": "execute_result",
          "data": {
            "text/plain": [
              "BaggingClassifier(base_estimator=DecisionTreeClassifier(), n_estimators=100,\n",
              "                  random_state=7)"
            ]
          },
          "metadata": {},
          "execution_count": 54
        }
      ]
    },
    {
      "cell_type": "code",
      "metadata": {
        "colab": {
          "base_uri": "https://localhost:8080/"
        },
        "id": "FnlIa6-v6gC3",
        "outputId": "a02ce3d5-c5c9-4b90-a9d1-b81bc9511c54"
      },
      "source": [
        "from sklearn.metrics import accuracy_score, confusion_matrix\n",
        "\n",
        "y_pred = model1.predict(X_test)\n",
        "ytrain_pred = model1.predict_proba(X_train)\n",
        "ytest_pred = model1.predict_proba(X_test)\n",
        "print(\"Training Score: {}\".format(roc_auc_score(y_train, ytrain_pred[:,1])))\n",
        "print(\"Testing Score:{}\". format(roc_auc_score(y_test, ytest_pred[:,1])))\n",
        "modify_result(\"Bagged Decision Tree Classifier\",\n",
        "             accuracy_score(model1.predict(X_train), y_train),\n",
        "             accuracy_score(y_test, y_pred))"
      ],
      "execution_count": 55,
      "outputs": [
        {
          "output_type": "stream",
          "name": "stdout",
          "text": [
            "Training Score: 1.0\n",
            "Testing Score:0.8478776211387153\n"
          ]
        }
      ]
    },
    {
      "cell_type": "code",
      "metadata": {
        "colab": {
          "base_uri": "https://localhost:8080/"
        },
        "id": "HvJafQJ7HOxY",
        "outputId": "e835471a-1c61-43e7-dcbc-8a87861bf614"
      },
      "source": [
        "y_pred=model1.predict(X_test)\n",
        "print(confusion_matrix(y_test,y_pred))\n",
        "print(accuracy_score(y_test,y_pred))\n",
        "print(classification_report(y_test,y_pred))"
      ],
      "execution_count": 56,
      "outputs": [
        {
          "output_type": "stream",
          "name": "stdout",
          "text": [
            "[[3609 1370]\n",
            " [1123 4072]]\n",
            "0.7549636327894633\n",
            "              precision    recall  f1-score   support\n",
            "\n",
            "           0       0.76      0.72      0.74      4979\n",
            "           1       0.75      0.78      0.77      5195\n",
            "\n",
            "    accuracy                           0.75     10174\n",
            "   macro avg       0.76      0.75      0.75     10174\n",
            "weighted avg       0.76      0.75      0.75     10174\n",
            "\n"
          ]
        }
      ]
    },
    {
      "cell_type": "markdown",
      "metadata": {
        "id": "CUNtd8t05o0y"
      },
      "source": [
        "## SVM"
      ]
    },
    {
      "cell_type": "code",
      "metadata": {
        "id": "-QiU0VSI2iIu",
        "colab": {
          "base_uri": "https://localhost:8080/"
        },
        "outputId": "c4d1f5c5-6e48-4e0b-afab-f31479cdbbbf"
      },
      "source": [
        "#SVM\n",
        "from sklearn import svm\n",
        "\n",
        "from sklearn.svm import SVC\n",
        "from sklearn.model_selection import GridSearchCV\n",
        "from sklearn.model_selection import KFold\n",
        "clff = SVC(probability=True)\n",
        "clff.fit(X_train,y_train)\n",
        "ytrain_pred = clff.predict_proba(X_train)\n",
        "print('Training Score: {}'.format(roc_auc_score(y_train, ytrain_pred[:,1])))\n",
        "ytest_pred = clff.predict_proba(X_test)\n",
        "print('Testing Score: {}'.format(roc_auc_score(y_test, ytest_pred[:,1])))\n",
        "\n",
        "modify_result(\"SVM\",\n",
        "             accuracy_score(clff.predict(X_train), y_train),\n",
        "             accuracy_score(y_test, y_pred))\n"
      ],
      "execution_count": 57,
      "outputs": [
        {
          "output_type": "stream",
          "name": "stdout",
          "text": [
            "Training Score: 0.5189294672821785\n",
            "Testing Score: 0.529463013182798\n"
          ]
        }
      ]
    },
    {
      "cell_type": "code",
      "metadata": {
        "id": "vXxVZNtlMco9",
        "colab": {
          "base_uri": "https://localhost:8080/"
        },
        "outputId": "f28e1dd1-4400-4b4f-e953-c6ba75a206cb"
      },
      "source": [
        "y_pred=clff.predict(X_test)\n",
        "print(confusion_matrix(y_test,y_pred))\n",
        "print(accuracy_score(y_test,y_pred))\n",
        "print(classification_report(y_test,y_pred))"
      ],
      "execution_count": 58,
      "outputs": [
        {
          "output_type": "stream",
          "name": "stdout",
          "text": [
            "[[2257 2722]\n",
            " [2179 3016]]\n",
            "0.5182818950265382\n",
            "              precision    recall  f1-score   support\n",
            "\n",
            "           0       0.51      0.45      0.48      4979\n",
            "           1       0.53      0.58      0.55      5195\n",
            "\n",
            "    accuracy                           0.52     10174\n",
            "   macro avg       0.52      0.52      0.52     10174\n",
            "weighted avg       0.52      0.52      0.52     10174\n",
            "\n"
          ]
        }
      ]
    },
    {
      "cell_type": "code",
      "metadata": {
        "id": "eALe-XDfgeIO"
      },
      "source": [
        "# Applying Grid Search to find the best model and the best parameters\n",
        "from sklearn.model_selection import GridSearchCV\n",
        "parameters = [{'C': [1, 10, 100, 1000], 'kernel': ['linear']},\n",
        "              {'C': [1, 10, 100, 1000], 'kernel': ['rbf'], 'gamma': [0.1, 0.2, 0.3, 0.4, 0.5, 0.6, 0.7, 0.8, 0.9]}]\n",
        "grid_search = GridSearchCV(estimator = clff,\n",
        "                           param_grid = parameters,\n",
        "                           scoring = 'accuracy',\n",
        "                           cv = 10,\n",
        "                           n_jobs = -1)\n",
        "grid_search = grid_search.fit(X_train, y_train)"
      ],
      "execution_count": null,
      "outputs": []
    },
    {
      "cell_type": "markdown",
      "metadata": {
        "id": "MStmR2qEdri_"
      },
      "source": [
        "### Compare the algorithms"
      ]
    },
    {
      "cell_type": "code",
      "metadata": {
        "id": "DvZKHIaUUQkM",
        "colab": {
          "base_uri": "https://localhost:8080/",
          "height": 363
        },
        "outputId": "eed1b733-c777-4700-eaa6-30a43114c35b"
      },
      "source": [
        "data=pd.DataFrame(result_df)\n",
        "data.sort_values(['testing_score'],ascending=False)"
      ],
      "execution_count": 59,
      "outputs": [
        {
          "output_type": "execute_result",
          "data": {
            "text/html": [
              "<div>\n",
              "<style scoped>\n",
              "    .dataframe tbody tr th:only-of-type {\n",
              "        vertical-align: middle;\n",
              "    }\n",
              "\n",
              "    .dataframe tbody tr th {\n",
              "        vertical-align: top;\n",
              "    }\n",
              "\n",
              "    .dataframe thead th {\n",
              "        text-align: right;\n",
              "    }\n",
              "</style>\n",
              "<table border=\"1\" class=\"dataframe\">\n",
              "  <thead>\n",
              "    <tr style=\"text-align: right;\">\n",
              "      <th></th>\n",
              "      <th>model</th>\n",
              "      <th>training_score</th>\n",
              "      <th>testing_score</th>\n",
              "    </tr>\n",
              "  </thead>\n",
              "  <tbody>\n",
              "    <tr>\n",
              "      <th>1</th>\n",
              "      <td>XGBoost</td>\n",
              "      <td>1.000000</td>\n",
              "      <td>0.770002</td>\n",
              "    </tr>\n",
              "    <tr>\n",
              "      <th>2</th>\n",
              "      <td>Gradient Boosting</td>\n",
              "      <td>0.760058</td>\n",
              "      <td>0.763908</td>\n",
              "    </tr>\n",
              "    <tr>\n",
              "      <th>4</th>\n",
              "      <td>Adaboost classifier</td>\n",
              "      <td>0.756863</td>\n",
              "      <td>0.763122</td>\n",
              "    </tr>\n",
              "    <tr>\n",
              "      <th>8</th>\n",
              "      <td>Bagged Decision Tree Classifier</td>\n",
              "      <td>1.000000</td>\n",
              "      <td>0.754964</td>\n",
              "    </tr>\n",
              "    <tr>\n",
              "      <th>9</th>\n",
              "      <td>SVM</td>\n",
              "      <td>0.512854</td>\n",
              "      <td>0.754964</td>\n",
              "    </tr>\n",
              "    <tr>\n",
              "      <th>0</th>\n",
              "      <td>Random forest classifier</td>\n",
              "      <td>1.000000</td>\n",
              "      <td>0.754865</td>\n",
              "    </tr>\n",
              "    <tr>\n",
              "      <th>7</th>\n",
              "      <td>Decision Tree Classifier</td>\n",
              "      <td>1.000000</td>\n",
              "      <td>0.710144</td>\n",
              "    </tr>\n",
              "    <tr>\n",
              "      <th>5</th>\n",
              "      <td>Logistic Regression</td>\n",
              "      <td>0.641733</td>\n",
              "      <td>0.639080</td>\n",
              "    </tr>\n",
              "    <tr>\n",
              "      <th>3</th>\n",
              "      <td>Guassian Naive Bayes</td>\n",
              "      <td>0.595788</td>\n",
              "      <td>0.590427</td>\n",
              "    </tr>\n",
              "    <tr>\n",
              "      <th>6</th>\n",
              "      <td>KNN</td>\n",
              "      <td>0.700605</td>\n",
              "      <td>0.520149</td>\n",
              "    </tr>\n",
              "  </tbody>\n",
              "</table>\n",
              "</div>"
            ],
            "text/plain": [
              "                             model  training_score  testing_score\n",
              "1                          XGBoost        1.000000       0.770002\n",
              "2                Gradient Boosting        0.760058       0.763908\n",
              "4              Adaboost classifier        0.756863       0.763122\n",
              "8  Bagged Decision Tree Classifier        1.000000       0.754964\n",
              "9                              SVM        0.512854       0.754964\n",
              "0         Random forest classifier        1.000000       0.754865\n",
              "7         Decision Tree Classifier        1.000000       0.710144\n",
              "5              Logistic Regression        0.641733       0.639080\n",
              "3             Guassian Naive Bayes        0.595788       0.590427\n",
              "6                              KNN        0.700605       0.520149"
            ]
          },
          "metadata": {},
          "execution_count": 59
        }
      ]
    },
    {
      "cell_type": "code",
      "metadata": {
        "colab": {
          "base_uri": "https://localhost:8080/",
          "height": 692
        },
        "id": "kued7Yp_amEC",
        "outputId": "4b4552c7-e7c8-4a5d-b033-cab4db9353fd"
      },
      "source": [
        "data = pd.DataFrame(result_df)\n",
        "data.sort_values(by=\"testing_score\", ascending=False).plot(kind=\"bar\", x=\"model\", rot=45, figsize=(16,9),color=[\"lightskyblue\",\"royalblue\"])\n",
        "plt.title(\"Model Performances\")\n",
        "plt.ylabel=(\"Accuracy Score\")\n",
        "plt.xlabel=(\"Models\")\n",
        "plt.legend([\"Train Score\",\"Test Score\"])"
      ],
      "execution_count": 60,
      "outputs": [
        {
          "output_type": "execute_result",
          "data": {
            "text/plain": [
              "<matplotlib.legend.Legend at 0x7f49ed1bd850>"
            ]
          },
          "metadata": {},
          "execution_count": 60
        },
        {
          "output_type": "display_data",
          "data": {
            "image/png": "[encoded data removed]",
            "text/plain": [
              "<Figure size 1152x648 with 1 Axes>"
            ]
          },
          "metadata": {
            "needs_background": "light"
          }
        }
      ]
    },
    {
      "cell_type": "markdown",
      "metadata": {
        "id": "mLiYGXk-4gek"
      },
      "source": [
        "## **Finalize Model**(XGBoost)\n",
        "We are finalizing XGBoost classifier as it is giving good testing accuracy."
      ]
    },
    {
      "cell_type": "code",
      "metadata": {
        "colab": {
          "base_uri": "https://localhost:8080/"
        },
        "id": "dztyIgdN4mjB",
        "outputId": "dba0e336-fce5-453a-8b84-c68d7cc9ef05"
      },
      "source": [
        "clf =XGBClassifier(base_score=0.5, booster='gbtree', colsample_bylevel=1,\n",
        "              colsample_bynode=1, colsample_bytree=1, gamma=0,eval_metric='auc',\n",
        "              learning_rate=0.1, max_delta_step=0, max_depth=3,\n",
        "              min_child_weight=0, missing=None, n_estimators=300, n_jobs=1,\n",
        "              nthread=None, objective='binary:logistic', random_state=100,\n",
        "              reg_alpha=0, reg_lambda=1, scale_pos_weight=1, seed=10,\n",
        "              silent=None, subsample=1, verbosity=1)\n",
        "clf.fit(X_train, y_train)"
      ],
      "execution_count": 61,
      "outputs": [
        {
          "output_type": "execute_result",
          "data": {
            "text/plain": [
              "XGBClassifier(eval_metric='auc', min_child_weight=0, n_estimators=300,\n",
              "              random_state=100, seed=10)"
            ]
          },
          "metadata": {},
          "execution_count": 61
        }
      ]
    },
    {
      "cell_type": "code",
      "metadata": {
        "colab": {
          "base_uri": "https://localhost:8080/"
        },
        "id": "3nYUehSO41JB",
        "outputId": "224e1762-00b8-46d9-e1da-b562d131dfbc"
      },
      "source": [
        "y_pred=clf.predict(X_test)\n",
        "print(confusion_matrix(y_test,y_pred))\n",
        "print(accuracy_score(y_test,y_pred))\n",
        "print(classification_report(y_test,y_pred))"
      ],
      "execution_count": 62,
      "outputs": [
        {
          "output_type": "stream",
          "name": "stdout",
          "text": [
            "[[3579 1400]\n",
            " [ 940 4255]]\n",
            "0.7700019657951641\n",
            "              precision    recall  f1-score   support\n",
            "\n",
            "           0       0.79      0.72      0.75      4979\n",
            "           1       0.75      0.82      0.78      5195\n",
            "\n",
            "    accuracy                           0.77     10174\n",
            "   macro avg       0.77      0.77      0.77     10174\n",
            "weighted avg       0.77      0.77      0.77     10174\n",
            "\n"
          ]
        }
      ]
    },
    {
      "cell_type": "code",
      "source": [
        "print('y_test and pred: {}'.format(y_test[:20]))\n",
        "print('pred: {}'.format(pred))"
      ],
      "metadata": {
        "colab": {
          "base_uri": "https://localhost:8080/"
        },
        "id": "yyUXcb8DpEja",
        "outputId": "dc26e7d6-b622-4edd-e119-2b3ced7f0efd"
      },
      "execution_count": 73,
      "outputs": [
        {
          "output_type": "stream",
          "name": "stdout",
          "text": [
            "y_test and pred: 8477     1\n",
            "8357     0\n",
            "26743    1\n",
            "17930    0\n",
            "7948     0\n",
            "25101    1\n",
            "7890     1\n",
            "12173    0\n",
            "10948    1\n",
            "5353     1\n",
            "18621    1\n",
            "13023    0\n",
            "6370     1\n",
            "15700    1\n",
            "8098     0\n",
            "26476    1\n",
            "10225    1\n",
            "24360    1\n",
            "29064    0\n",
            "13501    1\n",
            "Name: Purchased_ABC_product, dtype: int64\n",
            "pred: [0 0 0 ... 0 0 0]\n"
          ]
        }
      ]
    },
    {
      "cell_type": "markdown",
      "source": [
        "### SHAP values"
      ],
      "metadata": {
        "id": "x_oUoAydvg6A"
      }
    },
    {
      "cell_type": "code",
      "source": [
        "!pip install shap"
      ],
      "metadata": {
        "id": "V0lomUcnu3Rk"
      },
      "execution_count": null,
      "outputs": []
    },
    {
      "cell_type": "code",
      "source": [
        "import shap\n",
        "shap_values = shap.TreeExplainer(clf).shap_values(X_train)\n",
        "shap.summary_plot(shap_values, X_train)\n",
        "shap_values"
      ],
      "metadata": {
        "colab": {
          "base_uri": "https://localhost:8080/"
        },
        "id": "KtKqm81dvMm4",
        "outputId": "6b28ed10-f60f-4617-b1f8-2ba16f21acb4"
      },
      "execution_count": 78,
      "outputs": [
        {
          "output_type": "execute_result",
          "data": {
            "text/plain": [
              "array([[ 1.38978958e-01, -1.11827545e-01, -7.72928357e-01,\n",
              "         9.22475457e-02, -8.82089585e-02,  5.04687652e-02],\n",
              "       [-4.41076681e-02, -9.31319222e-03, -8.65663707e-01,\n",
              "        -5.08677401e-02, -1.01919666e-01,  5.29212728e-02],\n",
              "       [-7.87834972e-02,  1.69864967e-01, -8.55174446e+00,\n",
              "        -5.49763292e-02, -1.05752133e-01, -6.79827034e-02],\n",
              "       ...,\n",
              "       [ 7.39242882e-03,  9.49258432e-02, -1.86175835e+00,\n",
              "        -6.18906170e-02, -2.10008789e-02, -2.87802145e-02],\n",
              "       [-1.12647355e-01,  2.13064402e-01, -8.27200603e+00,\n",
              "        -5.35940044e-02, -9.53634530e-02, -7.13421851e-02],\n",
              "       [-5.33577129e-02,  3.64137590e-02, -6.05901122e-01,\n",
              "        -4.55750152e-02, -5.50843254e-02, -1.58382524e-02]], dtype=float32)"
            ]
          },
          "metadata": {},
          "execution_count": 78
        }
      ]
    },
    {
      "cell_type": "markdown",
      "metadata": {
        "id": "4yMFG-JeUuJp"
      },
      "source": [
        "## Best Thresholds and ROC Curve"
      ]
    },
    {
      "cell_type": "code",
      "metadata": {
        "colab": {
          "base_uri": "https://localhost:8080/"
        },
        "id": "BhjoWErA6YZ9",
        "outputId": "4edc3b66-c3d7-4958-aceb-49a1675aa195"
      },
      "source": [
        "pred=[]\n",
        "for model in [clf]:\n",
        "    pred.append(pd.Series(model.predict_proba(X_test)[:,1]))\n",
        "final_prediction=pd.concat(pred,axis=1).mean(axis=1)\n",
        "print('Ensemble test roc-auc: {}'.format(roc_auc_score(y_test,final_prediction)))"
      ],
      "execution_count": 63,
      "outputs": [
        {
          "output_type": "stream",
          "name": "stdout",
          "text": [
            "Ensemble test roc-auc: 0.8662053579799354\n"
          ]
        }
      ]
    },
    {
      "cell_type": "code",
      "metadata": {
        "colab": {
          "base_uri": "https://localhost:8080/"
        },
        "id": "yyD-VyKi6Ydn",
        "outputId": "4a768d3e-4c10-4a79-9a10-c88bda7a56e7"
      },
      "source": [
        "fpr, tpr, thresholds = roc_curve(y_test, final_prediction)\n",
        "thresholds"
      ],
      "execution_count": 64,
      "outputs": [
        {
          "output_type": "execute_result",
          "data": {
            "text/plain": [
              "array([1.9996126e+00, 9.9961251e-01, 9.9948066e-01, ..., 1.7897267e-04,\n",
              "       1.7866014e-04, 1.1365487e-04], dtype=float32)"
            ]
          },
          "metadata": {},
          "execution_count": 64
        }
      ]
    },
    {
      "cell_type": "code",
      "metadata": {
        "id": "DD0WxLL_6YhX",
        "colab": {
          "base_uri": "https://localhost:8080/",
          "height": 206
        },
        "outputId": "3dfee6d5-7f0b-4ff7-beec-90a8db4dc391"
      },
      "source": [
        "from sklearn.metrics import accuracy_score\n",
        "accuracy_ls = []\n",
        "for thres in thresholds:\n",
        "    y_pred = np.where(final_prediction>thres,1,0)\n",
        "    accuracy_ls.append(accuracy_score(y_test, y_pred, normalize=True))\n",
        "    \n",
        "accuracy_ls = pd.concat([pd.Series(thresholds), pd.Series(accuracy_ls)], axis=1)\n",
        "accuracy_ls.columns = ['thresholds', 'accuracy']\n",
        "accuracy_ls.sort_values(by='accuracy', ascending=False, inplace=True)\n",
        "accuracy_ls.head()"
      ],
      "execution_count": null,
      "outputs": [
        {
          "output_type": "execute_result",
          "data": {
            "text/html": [
              "<div>\n",
              "<style scoped>\n",
              "    .dataframe tbody tr th:only-of-type {\n",
              "        vertical-align: middle;\n",
              "    }\n",
              "\n",
              "    .dataframe tbody tr th {\n",
              "        vertical-align: top;\n",
              "    }\n",
              "\n",
              "    .dataframe thead th {\n",
              "        text-align: right;\n",
              "    }\n",
              "</style>\n",
              "<table border=\"1\" class=\"dataframe\">\n",
              "  <thead>\n",
              "    <tr style=\"text-align: right;\">\n",
              "      <th></th>\n",
              "      <th>thresholds</th>\n",
              "      <th>accuracy</th>\n",
              "    </tr>\n",
              "  </thead>\n",
              "  <tbody>\n",
              "    <tr>\n",
              "      <th>44</th>\n",
              "      <td>0.498453</td>\n",
              "      <td>0.680853</td>\n",
              "    </tr>\n",
              "    <tr>\n",
              "      <th>43</th>\n",
              "      <td>0.523967</td>\n",
              "      <td>0.680853</td>\n",
              "    </tr>\n",
              "    <tr>\n",
              "      <th>42</th>\n",
              "      <td>0.526622</td>\n",
              "      <td>0.680853</td>\n",
              "    </tr>\n",
              "    <tr>\n",
              "      <th>36</th>\n",
              "      <td>0.595189</td>\n",
              "      <td>0.680657</td>\n",
              "    </tr>\n",
              "    <tr>\n",
              "      <th>45</th>\n",
              "      <td>0.493068</td>\n",
              "      <td>0.680657</td>\n",
              "    </tr>\n",
              "  </tbody>\n",
              "</table>\n",
              "</div>"
            ],
            "text/plain": [
              "    thresholds  accuracy\n",
              "44    0.498453  0.680853\n",
              "43    0.523967  0.680853\n",
              "42    0.526622  0.680853\n",
              "36    0.595189  0.680657\n",
              "45    0.493068  0.680657"
            ]
          },
          "metadata": {},
          "execution_count": 92
        }
      ]
    },
    {
      "cell_type": "code",
      "metadata": {
        "id": "S-qgIJ6F6Yku"
      },
      "source": [
        "def plot_roc_curve(fpr, tpr):\n",
        "    plt.plot(fpr, tpr, color='orange', label='ROC')\n",
        "    plt.plot([0, 1], [0, 1], color='darkblue', linestyle='--')\n",
        "    \n",
        "    plt.xlabel('False Positive Rate')\n",
        "    plt.ylabel('True Positive Rate')\n",
        "    plt.title('Receiver Operating Characteristic (ROC) Curve')\n",
        "    plt.legend()\n",
        "    plt.show()"
      ],
      "execution_count": 68,
      "outputs": []
    },
    {
      "cell_type": "code",
      "metadata": {
        "id": "lUF3BOef6YoD"
      },
      "source": [
        "plot_roc_curve(fpr,tpr)"
      ],
      "execution_count": null,
      "outputs": []
    },
    {
      "cell_type": "markdown",
      "metadata": {
        "id": "wo1f37EKdriz"
      },
      "source": [
        "## Model Saving "
      ]
    },
    {
      "cell_type": "code",
      "metadata": {
        "id": "ED9v8Y-85MkS"
      },
      "source": [
        "import pickle\n",
        "with open('model_final','wb') as f:\n",
        " pickle.dump(classifier,f)"
      ],
      "execution_count": null,
      "outputs": []
    }
  ]
}